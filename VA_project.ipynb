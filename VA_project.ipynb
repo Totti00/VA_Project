{
  "nbformat": 4,
  "nbformat_minor": 0,
  "metadata": {
    "colab": {
      "provenance": [],
      "include_colab_link": true
    },
    "kernelspec": {
      "name": "python3",
      "display_name": "Python 3"
    },
    "language_info": {
      "name": "python"
    }
  },
  "cells": [
    {
      "cell_type": "markdown",
      "metadata": {
        "id": "view-in-github",
        "colab_type": "text"
      },
      "source": [
        "<a href=\"https://colab.research.google.com/github/Totti00/VA_Project/blob/develop/VA_project.ipynb\" target=\"_parent\"><img src=\"https://colab.research.google.com/assets/colab-badge.svg\" alt=\"Open In Colab\"/></a>"
      ]
    },
    {
      "cell_type": "markdown",
      "source": [
        "First commit"
      ],
      "metadata": {
        "id": "_8SYVib9kmcz"
      }
    },
    {
      "cell_type": "code",
      "execution_count": null,
      "metadata": {
        "id": "9qyvjwg1kRPh"
      },
      "outputs": [],
      "source": [
        "!wget https://www.dropbox.com/scl/fi/ybx2y1kvy99e2240gc9gg/san-vitale-challenge-dataset.zip?rlkey=kaye183spvmgyqx378rehrzjn&dl=0\n",
        "!unzip -q san-vitale-challenge-dataset.zip?rlkey=kaye183spvmgyqx378rehrzjn\n",
        "!rm san-vitale-challenge-dataset.zip?rlkey=kaye183spvmgyqx378rehrzjn"
      ]
    },
    {
      "cell_type": "code",
      "source": [
        "!pip install -q 'git+https://github.com/facebookresearch/segment-anything.git'\n",
        "!pip install uvicorn\n",
        "!pip install python-multipart\n",
        "!pip install kaleido\n",
        "!pip install fastapi\n",
        "!pip install -q jupyter_bbox_widget roboflow dataclasses-json supervision"
      ],
      "metadata": {
        "id": "-Np5diWo1xNG"
      },
      "execution_count": null,
      "outputs": []
    },
    {
      "cell_type": "code",
      "source": [
        "import os\n",
        "from PIL import Image\n",
        "import math\n",
        "import json\n",
        "import torch\n",
        "from timeit import default_timer as timer\n",
        "from datetime import timedelta\n",
        "import cv2\n",
        "from matplotlib import pyplot as plt\n",
        "import numpy as np\n",
        "from google.colab.patches import cv2_imshow\n",
        "from scipy.spatial.distance import directed_hausdorff\n",
        "#from segment_anything import sam_model_registry, SamAutomaticMaskGenerator, SamPredictor\n",
        "#import supervision as sv\n",
        "from sklearn.decomposition import PCA\n",
        "\n",
        "def resize_img(img_path, input_size):\n",
        "  my_image = plt.imread(img_path)\n",
        "  print(my_image.shape)\n",
        "  if max(my_image.shape[0], my_image.shape[1]) > input_size:\n",
        "    if my_image.shape[0] >= my_image.shape[1]:\n",
        "      height = input_size\n",
        "      width = int(my_image.shape[1] * input_size / my_image.shape[0])\n",
        "    else:\n",
        "      width = input_size\n",
        "      height = int(my_image.shape[0] * input_size / my_image.shape[1])\n",
        "    my_image = cv2.resize(my_image, (width, height), interpolation=cv2.INTER_LINEAR)\n",
        "  plt.imsave(img_path, my_image)\n",
        "\n",
        "def pad_img(img_path, input_size):\n",
        "  my_image = plt.imread(img_path)\n",
        "  pad_width = input_size - my_image.shape[0]\n",
        "  pad_height = input_size - my_image.shape[1]\n",
        "  my_padded_image = np.pad(my_image, ((0, pad_width), (0, pad_height), (0, 0)), 'constant')\n",
        "  plt.imsave(img_path, my_padded_image)\n",
        "\n",
        "def crop_image(image):\n",
        "  cropped_image = image[1000:, 1500:]\n",
        "  cropped_image = cropped_image[:2400, :2600]\n",
        "  return cropped_image\n",
        "\n",
        "def sliding_window_hausdorff_distance(contoursA, contoursB, window_size):\n",
        "  min_distance = float('inf')\n",
        "\n",
        "  # Confronta l'array più piccolo con una porzione dell'array più grande\n",
        "  for i in range(len(contoursB) - window_size + 1):\n",
        "    window_contoursB = contoursB[i:i+window_size]\n",
        "\n",
        "    # Calcola la distanza di Hausdorff diretta tra i contorni\n",
        "    distance= directed_hausdorff(contoursA, window_contoursB)[0]\n",
        "\n",
        "    # Aggiorna la minima distanza se necessario\n",
        "    min_distance = min(min_distance, distance)\n",
        "\n",
        "    # Ripeti il confronto con finestre di dimensioni ridotte\n",
        "    for window_size in range(window_size - 1, 0, -1):\n",
        "      for i in range(len(contoursB) - window_size + 1):\n",
        "        window_contoursB = contoursB[i:i+window_size]\n",
        "\n",
        "        # Calcola la distanza di Hausdorff diretta tra i contorni\n",
        "        distance= directed_hausdorff(contoursA, window_contoursB)[0]\n",
        "\n",
        "        # Aggiorna la minima distanza se necessario\n",
        "        min_distance = min(min_distance, distance)\n",
        "\n",
        "  return min_distance\n",
        "\n",
        "def find_start(img):\n",
        "  for x, line in enumerate(img):\n",
        "    for y, col in enumerate(line):\n",
        "      if col == 255:\n",
        "        return (x, y)\n",
        "\n",
        "def check_around(img, last, edge):\n",
        "  for i in range(-1, 2, 1):\n",
        "    for j in range(1, -2, -1):\n",
        "      x = max(0, min(last[0]+i, img.shape[0]-1))\n",
        "      y = max(0, min(last[1]+j, img.shape[1]-1))\n",
        "      if img[x][y] == 255 and [x, y] not in edge.tolist():\n",
        "        return [x, y]\n",
        "  return -1\n",
        "\n",
        "def manhattan_check_around(img, last, edge):\n",
        "  # Check up, down, left, and right directions\n",
        "  for i in range(-1, 2, 2):\n",
        "      x = max(0, min(last[0] + i, img.shape[0] - 1))\n",
        "      y = last[1]\n",
        "      if img[x][y] == 255 and [x, y] not in edge.tolist():\n",
        "          return [x, y]\n",
        "\n",
        "  for j in range(-1, 2, 2):\n",
        "      x = last[0]\n",
        "      y = max(0, min(last[1] + j, img.shape[1] - 1))\n",
        "      if img[x][y] == 255 and [x, y] not in edge.tolist():\n",
        "          return [x, y]\n",
        "\n",
        "  # Check diagonals\n",
        "  for i in range(-1, 2, 2):\n",
        "      for j in range(-1, 2, 2):\n",
        "          x = max(0, min(last[0] + i, img.shape[0] - 1))\n",
        "          y = max(0, min(last[1] + j, img.shape[1] - 1))\n",
        "          if img[x][y] == 255 and [x, y] not in edge.tolist():\n",
        "              return [x, y]\n",
        "\n",
        "  return -1\n",
        "\n",
        "def drow_edge(img, start):\n",
        "  edge = np.array([[start[0], start[1]]])\n",
        "  for i in range(-1, 2, 1):\n",
        "    for j in range(1, -2, -1):\n",
        "      x = max(0, min(start[0]+i, img.shape[0]-1))\n",
        "      y = max(0, min(start[1]+j, img.shape[1]-1))\n",
        "      if img[x][y] == 255 and [x, y] not in edge.tolist():\n",
        "        last = [x, y]\n",
        "        edge = np.vstack((edge, last))\n",
        "  while last != start:\n",
        "    last = check_around(img, last, edge)\n",
        "    if last == -1:\n",
        "      last = check_around(img, edge[-2], edge)\n",
        "      if last == -1:\n",
        "        return edge\n",
        "    else:\n",
        "      edge = np.vstack((edge, [last[0], last[1]]))\n",
        "  return edge\n",
        "\n",
        "def manhattan_drow_edge(img, start):\n",
        "  edge = np.array([[start[0], start[1]]])\n",
        "  last = manhattan_check_around(img, start, edge)\n",
        "  edge = np.vstack((edge, [last[0], last[1]]))\n",
        "  while last != start:\n",
        "    last = manhattan_check_around(img, last, edge)\n",
        "    if last == -1:\n",
        "      last = manhattan_check_around(img, edge[-2], edge)\n",
        "      if last == -1:\n",
        "        return edge\n",
        "    else:\n",
        "      edge = np.vstack((edge, [last[0], last[1]]))\n",
        "  return edge"
      ],
      "metadata": {
        "id": "hs3mY_q-S2rj"
      },
      "execution_count": 2,
      "outputs": []
    },
    {
      "cell_type": "markdown",
      "source": [
        "# Questo codice qui sotto controlla tutta la directory 6 e per ogni immagine calcola SAM e canny.\n",
        "## Questo produce anche un array (array_contours) che contiene tutti gli array  dei bordi di tutte le immagini"
      ],
      "metadata": {
        "id": "fbVD1GavYr0m"
      }
    },
    {
      "cell_type": "code",
      "source": [
        "#Serve per inizializzare il tutto\n",
        "HOME = os.getcwd()\n",
        "print(\"HOME:\", HOME)\n",
        "\n",
        "!mkdir -p {HOME}/weights\n",
        "!wget -q https://dl.fbaipublicfiles.com/segment_anything/sam_vit_h_4b8939.pth -P {HOME}/weights\n",
        "\n",
        "CHECKPOINT_PATH = os.path.join(HOME, \"weights\", \"sam_vit_h_4b8939.pth\")\n",
        "print(CHECKPOINT_PATH, \"; exist:\", os.path.isfile(CHECKPOINT_PATH))\n",
        "\n",
        "MODEL_TYPE = \"vit_h\"\n",
        "\n",
        "sam = sam_model_registry[MODEL_TYPE](checkpoint=CHECKPOINT_PATH).to(device=\"cuda\")\n",
        "mask_generator = SamAutomaticMaskGenerator(sam, points_per_batch=8)"
      ],
      "metadata": {
        "id": "FuJf-Hedb5KH"
      },
      "execution_count": null,
      "outputs": []
    },
    {
      "cell_type": "code",
      "source": [
        "folder_path = \"/content/dataset/train/6\"\n",
        "\n",
        "# Elenco dei file nella cartella\n",
        "file_list = os.listdir(folder_path)\n",
        "\n",
        "#Array contenente gli array dei bordi di tutte le immagini\n",
        "array_contours = []\n",
        "\n",
        "# Apri tutte le immagini con OpenCV\n",
        "images = []\n",
        "for file_name in file_list:\n",
        "  if file_name.endswith(('.png', '.jpg', '.jpeg')) and not file_name.startswith('gt') :\n",
        "    nome_file = file_name.split('.')[0]\n",
        "    file_path = os.path.join(folder_path, file_name)\n",
        "    image = cv2.imread(file_path)\n",
        "    img = crop_image(image)\n",
        "    image_rgb = cv2.cvtColor(img, cv2.COLOR_BGR2RGB)\n",
        "    sam_result = mask_generator.generate(image_rgb)\n",
        "    masks = [mask['segmentation'] for mask in sorted(sam_result, key=lambda x: x['area'], reverse=True)]\n",
        "\n",
        "    img = masks[1].astype('uint8') * 255 #serve per mapparla da booleano a scala di grigi\n",
        "    blurred = cv2.GaussianBlur(img, (13, 13), 0)\n",
        "    edges_D = cv2.Canny(blurred,0,100)\n",
        "    prova = drow_edge(edges_D, find_start(edges_D))\n",
        "    array_contours.append(prova)\n",
        "    seg_edge = np.zeros((4016, 6016))\n",
        "    x_coords, y_coords = prova[:, 0], prova[:, 1]\n",
        "    seg_edge[x_coords, y_coords] = 255\n",
        "\n",
        "    plt.imsave(os.path.join('dataset', 'train', '6', f'{nome_file}_sam_canny.png'), seg_edge)"
      ],
      "metadata": {
        "id": "oeh5sy534_gM"
      },
      "execution_count": null,
      "outputs": []
    },
    {
      "cell_type": "code",
      "source": [
        "# SALVARE SU FILE\n",
        "\n",
        "array_list = [arr.tolist() for arr in array_contours]\n",
        "with open('contours.json', 'w') as f:\n",
        "  json.dump(array_list, f)"
      ],
      "metadata": {
        "id": "G3hQcF2dSUCm"
      },
      "execution_count": null,
      "outputs": []
    },
    {
      "cell_type": "code",
      "source": [
        "# IMPORTARE DA FILE\n",
        "with open('contours.json', 'r') as f:\n",
        "  array_list = json.load(f)\n",
        "\n",
        "contours = [np.array(arr) for arr in array_list]"
      ],
      "metadata": {
        "id": "ygbuzWTCSj6n"
      },
      "execution_count": 3,
      "outputs": []
    },
    {
      "cell_type": "code",
      "source": [
        "\n",
        "#QUESTO SERVE PER PLOTTARE LA FOTO SEGMENTATA MA NON SERVE FARLO\n",
        "mask_annotator = sv.MaskAnnotator(color_lookup=sv.ColorLookup.INDEX)\n",
        "\n",
        "detections = sv.Detections.from_sam(sam_result=sam_result)\n",
        "\n",
        "annotated_image = mask_annotator.annotate(scene=img.copy(), detections=detections)\n",
        "\n",
        "sv.plot_images_grid(\n",
        "    images=[img, annotated_image],\n",
        "    grid_size=(1, 2),\n",
        "    titles=['source image', 'segmented image']\n",
        ")"
      ],
      "metadata": {
        "id": "3DXFULFo_RCS"
      },
      "execution_count": null,
      "outputs": []
    },
    {
      "cell_type": "code",
      "source": [
        "#QUESTO SERVE PER PLOTTARE LE MASCHERE MA NON SERVE FARLO\n",
        "masks = [mask['segmentation'] for mask\n",
        "    in sorted(sam_result, key=lambda x: x['area'], reverse=True)\n",
        "]\n",
        "\n",
        "sv.plot_images_grid(\n",
        "    images=masks,\n",
        "    grid_size=(8, int(len(masks) / 2)),\n",
        "    size=(16, 16)\n",
        ")"
      ],
      "metadata": {
        "id": "qgy_-DssBhqn"
      },
      "execution_count": null,
      "outputs": []
    },
    {
      "cell_type": "code",
      "source": [
        "img_A = cv2.imread('/content/dataset/train/6/A.png', cv2.IMREAD_GRAYSCALE)\n",
        "img_D = cv2.imread('/content/dataset/train/6/D.png', cv2.IMREAD_GRAYSCALE)\n",
        "\n",
        "_, bwA = cv2.threshold(img_A, 140, 255, cv2.THRESH_BINARY)\n",
        "_, bwD = cv2.threshold(img_D, 140, 255, cv2.THRESH_BINARY)\n",
        "s = cv2.getStructuringElement(cv2.MORPH_ELLIPSE, (9,9))\n",
        "\n",
        "res1 = cv2.morphologyEx(bwA, cv2.MORPH_OPEN, s)\n",
        "img_final_A = cv2.morphologyEx(res1, cv2.MORPH_CLOSE, s)\n",
        "img_final_A = cv2.dilate(img_final_A, s)\n",
        "cv2_imshow(img_final_A)\n",
        "\n",
        "res1 = cv2.morphologyEx(bwD, cv2.MORPH_OPEN, s)\n",
        "img_final_D = cv2.morphologyEx(res1, cv2.MORPH_CLOSE, s)\n",
        "img_final_D = cv2.dilate(img_final_D, s)\n",
        "cv2_imshow(img_final_D)\n",
        "\n",
        "#res = img.copy()\n",
        "#res[res2==0]=0\n",
        "\n",
        "blurred = cv2.GaussianBlur(img_final_A, (13, 13), 0)\n",
        "assert img_A is not None, \"file could not be read, check with os.path.exists()\"\n",
        "edges_A = cv2.Canny(blurred,0,100)\n",
        "\n",
        "blurred = cv2.GaussianBlur(img_D, (13, 13), 0)\n",
        "assert img_D is not None, \"file could not be read, check with os.path.exists()\"\n",
        "edges_D = cv2.Canny(blurred,0,100)\n",
        "\n",
        "cropped_image_D = crop_image(edges_D)\n",
        "cropped_image_A = crop_image(edges_A)\n",
        "# Display cropped image\n",
        "cv2_imshow(cropped_image_A)\n",
        "cv2_imshow(cropped_image_D)"
      ],
      "metadata": {
        "id": "9De8aKeAoFhy"
      },
      "execution_count": null,
      "outputs": []
    },
    {
      "cell_type": "markdown",
      "source": [
        "# Test"
      ],
      "metadata": {
        "id": "AN094tLxcC-G"
      }
    },
    {
      "cell_type": "code",
      "source": [
        "test_segment1 = np.array([[  0, 255, 255, 255,   0,   0,   0],\n",
        "                          [  0,   0,   0, 255,   0,   0,   0],\n",
        "                          [  0,   0,   0, 255,   0,   0,   0],\n",
        "                          [  0,   0,   0, 255,   0,   0,   0],\n",
        "                          [  0,   0,   0,   0,   0,   0,   0],\n",
        "                          [  0,   0,   0,   0,   0,   0,   0],\n",
        "                          [  0,   0,   0,   0,   0,   0,   0]])\n",
        "\n",
        "test_segment2 = np.array([[  0,   0,   0,   0,   0,   0,   0],\n",
        "                          [  0,   0,   0,   0,   0, 255,   0],\n",
        "                          [  0,   0,   0,   0,   0, 255,   0],\n",
        "                          [  0,   0, 255, 255, 255, 255,   0],\n",
        "                          [  0,   0,   0,   0,   0,   0,   0],\n",
        "                          [  0,   0,   0,   0,   0,   0,   0],\n",
        "                          [  0,   0,   0,   0,   0,   0,   0]])\n",
        "\n",
        "test_segment3 = np.array([[  0, 255, 255, 255, 255, 255, 255],\n",
        "                          [  0,   0,   0,   0,   0,   0,   0],\n",
        "                          [  0,   0,   0,   0,   0,   0,   0],\n",
        "                          [  0,   0,   0,   0,   0,   0,   0],\n",
        "                          [  0,   0,   0,   0,   0,   0,   0],\n",
        "                          [  0,   0,   0,   0,   0,   0,   0],\n",
        "                          [  0,   0,   0,   0,   0,   0,   0]])\n",
        "\n",
        "test_segment4 = np.array([[  0,   0,   0,   0,   0,   0,   0],\n",
        "                          [  0,   0,   0, 255,   0,   0,   0],\n",
        "                          [  0,   0,   0, 255,   0,   0,   0],\n",
        "                          [  0,   0,   0, 255,   0,   0,   0],\n",
        "                          [  0,   0,   0, 255,   0,   0,   0],\n",
        "                          [  0,   0,   0, 255,   0,   0,   0],\n",
        "                          [  0,   0,   0, 255,   0,   0,   0]])\n",
        "\n",
        "test_segment5 = np.array([[  0,   0,   0,   0,   0, 255,   0],\n",
        "                          [  0,   0,   0,   0, 255,   0,   0],\n",
        "                          [  0,   0,   0,   0,   0, 255,   0],\n",
        "                          [  0,   0,   0,   0,   0,   0, 255],\n",
        "                          [  0,   0,   0,   0,   0,   0, 255],\n",
        "                          [  0,   0,   0,   0,   0,   0, 255],\n",
        "                          [  0,   0,   0,   0,   0,   0,   0]])\n",
        "\n",
        "test_segment6 = np.array([[  0,   0, 255,   0,   0,   0,   0],\n",
        "                          [  0, 255,   0,   0,   0,   0,   0],\n",
        "                          [  0,   0, 255,   0,   0,   0,   0],\n",
        "                          [  0,   0,   0, 255, 255, 255,   0],\n",
        "                          [  0,   0,   0,   0,   0,   0,   0],\n",
        "                          [  0,   0,   0,   0,   0,   0,   0],\n",
        "                          [  0,   0,   0,   0,   0,   0,   0]])\n",
        "\n",
        "test_segment7 = np.array([[  0,   0, 255, 255,   0,   0,   0],\n",
        "                          [255,   0,   0,   0, 255,   0,   0],\n",
        "                          [  0, 255,   0, 255,   0,   0,   0],\n",
        "                          [  0,   0, 255,   0,   0,   0,   0],\n",
        "                          [  0,   0,   0,   0,   0,   0,   0],\n",
        "                          [  0,   0,   0,   0,   0,   0,   0],\n",
        "                          [  0,   0,   0,   0,   0,   0,   0]])\n",
        "\n",
        "test_segment8 = np.array([[  0, 255, 255,   0,   0,   0,   0],\n",
        "                          [  0,   0, 255,   0,   0,   0,   0],\n",
        "                          [  0,   0, 255, 255,   0,   0,   0],\n",
        "                          [  0,   0,   0, 255,   0,   0,   0],\n",
        "                          [  0,   0,   0,   0,   0,   0,   0],\n",
        "                          [  0,   0,   0,   0,   0,   0,   0],\n",
        "                          [  0,   0,   0,   0,   0,   0,   0]])\n",
        "\n",
        "arr1 = drow_edge(test_segment1, find_start(test_segment1))\n",
        "arr2 = drow_edge(test_segment2, find_start(test_segment2))\n",
        "arr3 = drow_edge(test_segment3, find_start(test_segment3))\n",
        "arr4 = drow_edge(test_segment4, find_start(test_segment4))\n",
        "arr5 = drow_edge(test_segment5, find_start(test_segment5))\n",
        "arr6 = drow_edge(test_segment6, find_start(test_segment6))\n",
        "arr7 = drow_edge(test_segment7, find_start(test_segment7))\n",
        "arr8 = drow_edge(test_segment8, find_start(test_segment8))"
      ],
      "metadata": {
        "id": "3CSkpZRj6jHC"
      },
      "execution_count": null,
      "outputs": []
    },
    {
      "cell_type": "code",
      "source": [
        "def check_euc_distance(arr1, arr2):\n",
        "  quad_distance1X = (arr1[0][0] - arr1[-1][0])**2\n",
        "  quad_distance1Y = (arr1[0][1] - arr1[-1][1])**2\n",
        "  quad_distance1 = quad_distance1X + quad_distance1Y\n",
        "\n",
        "  quad_distance2X = (arr2[0][0] - arr2[-1][0])**2\n",
        "  quad_distance2Y = (arr2[0][1] - arr2[-1][1])**2\n",
        "  quad_distance2 = quad_distance2X + quad_distance2Y\n",
        "\n",
        "  # Calcola le soglie massima e minima consentite\n",
        "  tol = 0.5  # 30% di tolleranza\n",
        "  min_threshold = (1 - tol) * min(quad_distance1, quad_distance2)\n",
        "  max_threshold = (1 + tol) * max(quad_distance1, quad_distance2)\n",
        "  print(\"valore min thresh -> \", min_threshold)\n",
        "  print(\"valore max thresh -> \", max_threshold)\n",
        "  print(\"valore euristica -> \", abs(quad_distance1 - quad_distance2))\n",
        "\n",
        "  # Confronta le distanze considerando la tolleranza\n",
        "  return min_threshold <= abs(quad_distance1 - quad_distance2) <= max_threshold\n",
        "\n",
        "\n",
        "def euc_distance(arr1):\n",
        "  quad_distance1X = (arr1[0][0] - arr1[-1][0])**2\n",
        "  quad_distance1Y = (arr1[0][1] - arr1[-1][1])**2\n",
        "  quad_distance = quad_distance1X + quad_distance1Y\n",
        "\n",
        "  return np.sqrt(quad_distance)\n",
        "\n",
        "def rotate(p, origin=(0, 0), degrees=0):\n",
        "    angle = np.deg2rad(degrees)\n",
        "    R = np.array([[np.cos(angle), -np.sin(angle)],\n",
        "                  [np.sin(angle),  np.cos(angle)]])\n",
        "    o = np.atleast_2d(origin)\n",
        "    p = np.atleast_2d(p)\n",
        "    return np.squeeze((R @ (p.T-o.T) + o.T).T)\n",
        "\n",
        "def get_angle(a, b, c):\n",
        "  cosine_angle = get_cosine_angle(a, b, c)\n",
        "  angle = np.arccos(cosine_angle)\n",
        "\n",
        "  return np.degrees(angle)\n",
        "\n",
        "def get_cosine_angle(a, b, c):\n",
        "  ba = a - b\n",
        "  bc = c - b\n",
        "  return round(np.dot(ba, bc) / (((np.linalg.norm(ba) * np.linalg.norm(bc)) + 0.000000001)), 10)\n",
        "\n",
        "def eval_match(edge1, edge2):\n",
        "  if (len(edge1) == 1):\n",
        "    return float('inf')\n",
        "  #if (len(edge2) == 1):\n",
        "  #  return float('inf')\n",
        "  arr1 = edge1.copy()\n",
        "  arr2 = edge2.copy()\n",
        "  if True: #if check_length(arr1, arr2):  #check_euc_distance(arr1, arr2)\n",
        "    shift = arr1[0] - arr2[0]\n",
        "    arr2 += shift\n",
        "    arr2 = rotate(arr2, arr2[0], get_angle(arr1[-1], arr1[0], arr2[-1]))\n",
        "    while(get_cosine_angle(arr1[-1], arr1[0], arr2[-1]) < 0.90):\n",
        "      arr2 = rotate(arr2, arr2[0], get_angle(arr1[-1], arr1[0], arr2[-1]))\n",
        "    #return sliding_window_hausdorff_distance(arr1, arr2, 700) #TODO: al posto del 6 ci va la dimensione della sliding window\n",
        "    distance = directed_hausdorff(arr1, arr2)[0]\n",
        "    return distance #/ len(arr1) / (euc_distance(arr1))\n",
        "  else:\n",
        "    return float('inf')\n",
        "\n",
        "def match_edges_with_size(arr1, arr2, size, dizionario):\n",
        "  edge_1 = arr1.copy()\n",
        "  edge_2 = arr2.copy()\n",
        "  min_distance = float('inf')\n",
        "  min_coords = None\n",
        "  edge_min = min((edge_1, edge_2), key=len)\n",
        "  edge_min = edge_min[::-1]\n",
        "  edge_max = max((edge_1, edge_2), key=len)\n",
        "  len_max = len(edge_max)\n",
        "  for x in range(0, len_max - size, 10):\n",
        "    for y in range(0, len(edge_min) - size, 10):\n",
        "      #if(x > 4800 and (x+size) < 6700 and y > 2000 and (y+size) < 2800):\n",
        "        #seg_edge = np.zeros((3016, 3016))\n",
        "        #x_coords, y_coords = edge_max[x:x+size, 0], edge_max[x:x+size, 1]\n",
        "        #seg_edge[x_coords, y_coords] = 255\n",
        "        #cv2_imshow(seg_edge)\n",
        "        #seg_edge = np.zeros((3016, 3016))\n",
        "        #x_coords, y_coords = edge_min[y:y+size, 0], edge_min[y:y+size, 1]\n",
        "        #seg_edge[x_coords, y_coords] = 255\n",
        "        #cv2_imshow(seg_edge)\n",
        "\n",
        "        #distance = eval_match(edge_min[y:y+size], edge_max[x:x+size])\n",
        "        #print(\"Lenght -> \", check_length(arr1, arr2))\n",
        "        #print(\"Euristica -> \", check_euc_distance(arr1, arr2))\n",
        "        #print(\"Distanza -> \", distance)\n",
        "      #else:\n",
        "      distance = eval_match(edge_min[y:y+size], edge_max[x:x+size])\n",
        "\n",
        "      #if distance < 3.0:\n",
        "      if distance < min_distance:\n",
        "        #dizionario.update({distance:(x, x + size, y, y + size)} )\n",
        "        #if (not attach_fragments(edge_min, edge_max, x, x+size, y, y+size)):\n",
        "        min_distance = distance\n",
        "        min_coords = (x, x + size, y, y + size)\n",
        "\n",
        "\n",
        "  #return 0, (0,0,0,0)\n",
        "  return min_distance, min_coords\n",
        "\n",
        "def match_edges(arr1, arr2):\n",
        "  edge_1 = arr1.copy()\n",
        "  edge_2 = arr2.copy()\n",
        "  min_distance = float('inf')\n",
        "  min_coords = None\n",
        "  edge_min = min((edge_1, edge_2), key=len)\n",
        "  edge_max = max((edge_1, edge_2), key=len)\n",
        "  len_max = len(edge_max)\n",
        "  for j in range(300, int(len(edge_min) / 5), 10): #size window\n",
        "    size = j\n",
        "    for x in range(0, len_max - size, 2):\n",
        "      for y in range(0, len(edge_min) - size, 2):\n",
        "        distance = eval_match(edge_min[y:y+size], edge_max[x:x+size])\n",
        "        if distance < min_distance:\n",
        "          min_distance = distance\n",
        "          min_coords = (x, x + size, y, y + size)\n",
        "  return min_distance, min_coords\n",
        "\n",
        "def check_length(arr1, arr2):\n",
        "  # Calcola la lunghezza dei bordi e confronta le lunghezze con una tolleranza del 10%\n",
        "  #return abs(cv2.arcLength(arr1, True) - cv2.arcLength(arr2, True)) / max(cv2.arcLength(arr1, True), cv2.arcLength(arr2, True)) <= 0.2\n",
        "  return abs(len(arr1) - len(arr2)) / max(len(arr1), len(arr2)) <= 0.05\n",
        "\n",
        "def point_inside_polygon(x, y, poly):\n",
        "  n = len(poly)\n",
        "  inside = False\n",
        "  p1x, p1y = poly[0]\n",
        "  for i in range(0, n + 1, 10):\n",
        "    p2x, p2y = poly[i % n]\n",
        "    if y > min(p1y, p2y):\n",
        "      if y <= max(p1y, p2y):\n",
        "        if x <= max(p1x, p2x):\n",
        "          if p1y != p2y:\n",
        "            xinters = (y - p1y) * (p2x - p1x) / (p2y - p1y) + p1x\n",
        "          if p1x == p2x or x <= xinters:\n",
        "            inside = not inside\n",
        "    p1x, p1y = p2x, p2y\n",
        "  return inside"
      ],
      "metadata": {
        "id": "fdCHitPwZCqR"
      },
      "execution_count": 53,
      "outputs": []
    },
    {
      "cell_type": "code",
      "source": [
        "#Questo plotta i due frammenti e due lati che combaciano\n",
        "def visualize(points, arr1, arr2):\n",
        "  edge_min = min((arr1, arr2), key=len)\n",
        "  edge_min = edge_min[::-1]\n",
        "  edge_max = max((arr1, arr2), key=len)\n",
        "  seg_edge = np.zeros((3016, 3016))\n",
        "  x_coords, y_coords = edge_max[:, 0], edge_max[:, 1]\n",
        "  seg_edge[x_coords, y_coords] = 255\n",
        "  cv2_imshow(seg_edge)\n",
        "  seg_edge = np.zeros((3016, 3016))\n",
        "  x_coords, y_coords = edge_max[points[0]:points[1], 0], edge_max[points[0]:points[1], 1]\n",
        "  seg_edge[x_coords, y_coords] = 255\n",
        "  cv2_imshow(seg_edge)\n",
        "\n",
        "  seg_edge = np.zeros((3016, 3016))\n",
        "  x_coords, y_coords = edge_min[:, 0], edge_min[:, 1]\n",
        "  seg_edge[x_coords, y_coords] = 255\n",
        "  cv2_imshow(seg_edge)\n",
        "  seg_edge = np.zeros((3016, 3016))\n",
        "  x_coords, y_coords = edge_min[points[2]:points[3], 0], edge_min[points[2]:points[3], 1]\n",
        "  seg_edge[x_coords, y_coords] = 255\n",
        "  cv2_imshow(seg_edge)"
      ],
      "metadata": {
        "id": "7SoP8LOCz_bc"
      },
      "execution_count": 6,
      "outputs": []
    },
    {
      "cell_type": "code",
      "source": [
        "dizionario = {}\n",
        "score, coords = match_edges_with_size(contours[1], contours[2], 350, dizionario)   #1, 3, 400\n",
        "print(score)\n",
        "print(coords)"
      ],
      "metadata": {
        "id": "K3nMvZalhegd"
      },
      "execution_count": null,
      "outputs": []
    },
    {
      "cell_type": "code",
      "source": [
        "dizionario\n",
        "dizionario_filtrato = {k: v for k, v in dizionario.items() if k <= 1.8}\n",
        "dizionario_ordinato = dict(sorted(dizionario_filtrato.items()))\n",
        "dizionario_ordinato"
      ],
      "metadata": {
        "id": "tqOB2F8VJM5C"
      },
      "execution_count": null,
      "outputs": []
    },
    {
      "cell_type": "code",
      "source": [
        "#coords = list(dizionario_ordinato.values())[142]\n",
        "visualize(coords, contours[0], contours[2])"
      ],
      "metadata": {
        "id": "ISUUoMpQOaMs"
      },
      "execution_count": null,
      "outputs": []
    },
    {
      "cell_type": "code",
      "source": [
        "def check_inside_contours(edge_min, edge_max):\n",
        "  c = 0\n",
        "  for point in edge_min:\n",
        "    result = point_inside_polygon(point[0], point[1], edge_max)\n",
        "    if (result):\n",
        "      c += 1\n",
        "    else:\n",
        "      c = 0\n",
        "\n",
        "    if c > 100:\n",
        "      return True\n",
        "  return False\n"
      ],
      "metadata": {
        "id": "LTEA3DPu2TH_"
      },
      "execution_count": 22,
      "outputs": []
    },
    {
      "cell_type": "code",
      "source": [
        "def attach_fragments(edgeMin, edgeMax, x, x_size, y, y_size):\n",
        "  edge_min = edgeMin.copy()\n",
        "  edge_max = edgeMax.copy()\n",
        "  shift = edge_max[x:x_size][0] - edge_min[y:y_size][0]\n",
        "  edge_min += shift\n",
        "\n",
        "  angle_prova = get_angle(edge_max[x:x_size][-1], edge_max[x:x_size][0], edge_min[y:y_size][-1])\n",
        "  edge_min = rotate(edge_min, edge_min[y:y_size][0], angle_prova)\n",
        "  edge_min = np.ceil(edge_min).astype(int)\n",
        "\n",
        "  while(get_cosine_angle(edge_max[x:x_size][-1], edge_max[x:x_size][0], edge_min[y:y_size][-1]) < 0.90):\n",
        "    angle_prova = get_angle(edge_max[x:x_size][-1], edge_max[x:x_size][0], edge_min[y:y_size][-1])\n",
        "    edge_min = rotate(edge_min, edge_min[y:y_size][0], angle_prova)\n",
        "    edge_min = np.ceil(edge_min).astype(int)\n",
        "\n",
        "  joined_coords = np.concatenate((edge_max, edge_min))\n",
        "\n",
        "  if (check_inside_contours(edge_min, edge_max)):\n",
        "    return True\n",
        "  return False"
      ],
      "metadata": {
        "id": "PqKd2ZDc0hrf"
      },
      "execution_count": 8,
      "outputs": []
    },
    {
      "cell_type": "code",
      "source": [],
      "metadata": {
        "id": "yNFBy0KiEogS"
      },
      "execution_count": null,
      "outputs": []
    },
    {
      "cell_type": "code",
      "source": [],
      "metadata": {
        "id": "DmfiSqunEod8"
      },
      "execution_count": null,
      "outputs": []
    },
    {
      "cell_type": "code",
      "source": [
        "#ATTACCA I PEZZI\n",
        "edge_1 = contours[1].copy()\n",
        "edge_2 = contours[2].copy()\n",
        "edge_min = min((edge_1, edge_2), key=len)\n",
        "edge_min = edge_min[::-1]\n",
        "edge_max = max((edge_1, edge_2), key=len)\n",
        "\n",
        "shift = edge_max[coords[0]:coords[1]][0] - edge_min[coords[2]:coords[3]][0]\n",
        "edge_min += shift\n",
        "\n",
        "angle_prova = get_angle(edge_max[coords[0]:coords[1]][-1], edge_max[coords[0]:coords[1]][0], edge_min[coords[2]:coords[3]][-1])\n",
        "edge_min = rotate(edge_min, edge_min[coords[2]:coords[3]][0], angle_prova)\n",
        "edge_min = np.ceil(edge_min).astype(int)\n",
        "\n",
        "while(get_cosine_angle(edge_max[coords[0]:coords[1]][-1], edge_max[coords[0]:coords[1]][0], edge_min[coords[2]:coords[3]][-1]) < 0.90):\n",
        "  angle_prova = get_angle(edge_max[coords[0]:coords[1]][-1], edge_max[coords[0]:coords[1]][0], edge_min[coords[2]:coords[3]][-1])\n",
        "  edge_min = rotate(edge_min, edge_min[coords[2]:coords[3]][0], angle_prova)\n",
        "  edge_min = np.ceil(edge_min).astype(int)\n",
        "\n",
        "joined_coords = np.concatenate((edge_max, edge_min))\n",
        "\n",
        "seg_edge = np.zeros((4016, 4016))\n",
        "joined_coords += 500\n",
        "x_coords, y_coords = joined_coords[:, 0], joined_coords[:, 1]\n",
        "seg_edge[x_coords, y_coords] = 255\n",
        "cv2_imshow(seg_edge)"
      ],
      "metadata": {
        "id": "KHJi1BHZojh-",
        "outputId": "084ae8be-492a-4e3b-cc73-aa44cb4fabd9",
        "colab": {
          "base_uri": "https://localhost:8080/",
          "height": 899
        }
      },
      "execution_count": null,
      "outputs": [
        {
          "output_type": "display_data",
          "data": {
            "text/plain": [
              "<PIL.Image.Image image mode=L size=4016x4016>"
            ],
            "image/png": "[encoded data removed]"
          },
          "metadata": {}
        }
      ]
    },
    {
      "cell_type": "code",
      "source": [
        "#SERVE PER CONTROLLARE SE UN PEZZO É DENTRO L'ALTRO\n",
        "for point in edge_min:\n",
        "  result = point_inside_polygon(point[0], point[1], edge_max)\n",
        "  if (not result):\n",
        "    print(\"nooo\")"
      ],
      "metadata": {
        "id": "5cmNJfpU_yWe"
      },
      "execution_count": null,
      "outputs": []
    },
    {
      "cell_type": "code",
      "source": [],
      "metadata": {
        "id": "XaKhnzF9G3k3"
      },
      "execution_count": null,
      "outputs": []
    },
    {
      "cell_type": "code",
      "source": [],
      "metadata": {
        "id": "7YeHAPy5G3ij"
      },
      "execution_count": null,
      "outputs": []
    },
    {
      "cell_type": "code",
      "source": [],
      "metadata": {
        "id": "dUQ3hKmDG3au"
      },
      "execution_count": null,
      "outputs": []
    },
    {
      "cell_type": "code",
      "source": [],
      "metadata": {
        "id": "TuTQq3rGG3MJ"
      },
      "execution_count": null,
      "outputs": []
    },
    {
      "cell_type": "code",
      "source": [
        "#Questo plotta i due frammenti e due lati che combaciano\n",
        "seg_edge = np.zeros((3016, 3016))\n",
        "x_coords, y_coords = contours[2][:, 0], contours[2][:, 1]\n",
        "seg_edge[x_coords, y_coords] = 255\n",
        "cv2_imshow(seg_edge)\n",
        "seg_edge = np.zeros((3016, 3016))\n",
        "x_coords, y_coords = contours[2][350:550, 0], contours[2][350:550, 1]\n",
        "seg_edge[x_coords, y_coords] = 255\n",
        "cv2_imshow(seg_edge)\n",
        "\n",
        "seg_edge = np.zeros((3016, 3016))\n",
        "x_coords, y_coords = contours[1][:, 0], contours[1][:, 1]\n",
        "seg_edge[x_coords, y_coords] = 255\n",
        "cv2_imshow(seg_edge)\n",
        "seg_edge = np.zeros((3016, 3016))\n",
        "x_coords, y_coords = contours[1][2100:2300, 0], contours[1][2100:2300, 1]\n",
        "seg_edge[x_coords, y_coords] = 255\n",
        "cv2_imshow(seg_edge)\n"
      ],
      "metadata": {
        "id": "K26FzskIlc4j"
      },
      "execution_count": null,
      "outputs": []
    },
    {
      "cell_type": "code",
      "source": [
        "edge_min = contours[2].copy()\n",
        "edge_min = edge_min[::-1]\n",
        "seg_edge = np.zeros((4016, 6016))\n",
        "x_coords, y_coords = edge_min[2000:2800, 0], edge_min[2000:2800, 1]\n",
        "seg_edge[x_coords, y_coords] = 255\n",
        "cv2_imshow(seg_edge)"
      ],
      "metadata": {
        "id": "OTM2aDlc5pn7"
      },
      "execution_count": null,
      "outputs": []
    },
    {
      "cell_type": "code",
      "source": [
        "seg_edge = np.zeros((4016, 4016))\n",
        "x_coords, y_coords = contours[1][:, 0], contours[1][:, 1]\n",
        "seg_edge[x_coords, y_coords] = 255\n",
        "cv2_imshow(seg_edge)"
      ],
      "metadata": {
        "id": "SBZ7XdKdpNJ5",
        "colab": {
          "base_uri": "https://localhost:8080/",
          "height": 899
        },
        "outputId": "da910f04-4828-45af-dea1-0180c21a1888"
      },
      "execution_count": null,
      "outputs": [
        {
          "output_type": "display_data",
          "data": {
            "text/plain": [
              "<PIL.Image.Image image mode=L size=4016x4016>"
            ],
            "image/png": "[encoded data removed]"
          },
          "metadata": {}
        }
      ]
    },
    {
      "cell_type": "code",
      "source": [],
      "metadata": {
        "id": "8FH-9gmLwPRp"
      },
      "execution_count": null,
      "outputs": []
    },
    {
      "cell_type": "code",
      "source": [],
      "metadata": {
        "id": "Da3IlstQwPPE"
      },
      "execution_count": null,
      "outputs": []
    },
    {
      "cell_type": "code",
      "source": [],
      "metadata": {
        "id": "d2jCyCfnwPMn"
      },
      "execution_count": null,
      "outputs": []
    },
    {
      "cell_type": "code",
      "source": [],
      "metadata": {
        "id": "g46C41XwwPJ6"
      },
      "execution_count": null,
      "outputs": []
    },
    {
      "cell_type": "code",
      "source": [],
      "metadata": {
        "id": "PlWKmIN_wPGq"
      },
      "execution_count": null,
      "outputs": []
    },
    {
      "cell_type": "code",
      "source": [
        "#QUESTO ATTACCA BENE L'ELEFANTE CON IL PEZZO CURVO MA PERCHÉ HO DEBUGGATO\n",
        "\n",
        "# contours[0], contours[2], 400\n",
        "edge_1 = contours[0].copy()\n",
        "edge_2 = contours[2].copy()\n",
        "min_distance = float('inf')\n",
        "min_coords = None\n",
        "edge_min = min((edge_1, edge_2), key=len)\n",
        "edge_min = edge_min[::-1]\n",
        "edge_max = max((edge_1, edge_2), key=len)\n",
        "len_max = len(edge_max)\n",
        "for x in range(4800, len_max - 400, 50):\n",
        "  for y in range(2000, len(edge_min) - 400, 50):\n",
        "    if(x >= 4800 and (x+400) <= 6400 and y >= 2000 and (y+400) <= 3600):\n",
        "      #seg_edge = np.zeros((4016, 4016))\n",
        "      #x_coords, y_coords = edge_max[x:x+400, 0], edge_max[x:x+400, 1]\n",
        "      #seg_edge[x_coords, y_coords] = 255\n",
        "      #cv2_imshow(seg_edge)\n",
        "      #seg_edge = np.zeros((4016, 4016))\n",
        "      #x_coords, y_coords = edge_min[y:y+400, 0], edge_min[y:y+400, 1]\n",
        "      #seg_edge[x_coords, y_coords] = 255\n",
        "      #cv2_imshow(seg_edge)\n",
        "\n",
        "      distance = eval_match(edge_min[y:y+400], edge_max[x:x+400])\n",
        "      #print(\"Lenght -> \", check_length(edge_min[y:y+400], edge_max[x:x+400]))\n",
        "      #print(\"Distanza -> \", distance)\n",
        "    #else:\n",
        "      #distance = eval_match(edge_min[y:y+400], edge_max[x:x+400])\n",
        "\n",
        "    #if distance < 3.0:\n",
        "    if distance < min_distance:\n",
        "      #dizionario.update({distance:(x, x + size, y, y + size)} )\n",
        "      #if (not attach_fragments(edge_min, edge_max, x, x+size, y, y+size)):\n",
        "      min_distance = distance\n",
        "      min_coords = (x, x + 400, y, y + 400)\n",
        "\n",
        "\n",
        "#return 0, (0,0,0,0)"
      ],
      "metadata": {
        "id": "PTXgONS5wO-O"
      },
      "execution_count": null,
      "outputs": []
    },
    {
      "cell_type": "code",
      "source": [
        "coords = min_coords\n",
        "print(min_distance)"
      ],
      "metadata": {
        "id": "ciFxTQblBiT-",
        "outputId": "3ed995d1-048a-4ee5-b0ee-e5a45b8b4245",
        "colab": {
          "base_uri": "https://localhost:8080/"
        }
      },
      "execution_count": null,
      "outputs": [
        {
          "output_type": "stream",
          "name": "stdout",
          "text": [
            "2.851370417102866\n"
          ]
        }
      ]
    },
    {
      "cell_type": "code",
      "source": [],
      "metadata": {
        "id": "K-3IehiT4fWy"
      },
      "execution_count": null,
      "outputs": []
    },
    {
      "cell_type": "code",
      "source": [],
      "metadata": {
        "id": "tOfFZRSC4fSp"
      },
      "execution_count": null,
      "outputs": []
    },
    {
      "cell_type": "code",
      "source": [
        "with open('contours.json', 'r') as f:\n",
        "  array_list = json.load(f)\n",
        "\n",
        "contours = [np.array(arr) for arr in array_list]"
      ],
      "metadata": {
        "id": "mv8SWrNi4f4q"
      },
      "execution_count": null,
      "outputs": []
    },
    {
      "cell_type": "code",
      "source": [
        "from enum import Enum\n",
        "def contours_simplifier(edge):\n",
        "  class Status(Enum):\n",
        "    FINISH = 0\n",
        "    STRAIGHT = 1\n",
        "    STAIRS = 2\n",
        "    DIAGONAL = 3\n",
        "  status = Status.STRAIGHT\n",
        "  while status != Status.FINISH:\n",
        "    to_del = []\n",
        "    if status == Status.STRAIGHT:\n",
        "      for i in range(len(edge) - 1):\n",
        "        if (edge[i - 1][0] == edge[i][0] == edge[i + 1][0]) or (edge[i - 1][1] == edge[i][1] == edge[i + 1][1]):\n",
        "          to_del.append(i)\n",
        "      edge = np.delete(edge, to_del, 0)\n",
        "      if len(to_del) == 0:\n",
        "        status = status.STAIRS\n",
        "    if status == Status.STAIRS:\n",
        "      for i in range(len(edge) - 1):\n",
        "        if abs(edge[i - 1][0] - edge[i + 1][0]) == 1 and abs(edge[i - 1][1] - edge[i + 1][1]) == 1: # il pixel prima ed il pixel dopo si toccano coi vertici\n",
        "          to_del.append(i)\n",
        "      edge = np.delete(edge, to_del, 0)\n",
        "      if len(to_del) == 0:\n",
        "        status = status.DIAGONAL\n",
        "    if status == Status.DIAGONAL:\n",
        "      for i in range(len(edge) - 1):\n",
        "        if abs(edge[i - 1][0] - edge[i + 1][0]) == abs(edge[i - 1][1] - edge[i + 1][1]):\n",
        "          to_del.append(i)\n",
        "      edge = np.delete(edge, to_del, 0)\n",
        "      if len(to_del) == 0:\n",
        "        status = status.FINISH\n",
        "  return edge"
      ],
      "metadata": {
        "id": "HX9gmR2_4i4s"
      },
      "execution_count": 9,
      "outputs": []
    },
    {
      "cell_type": "code",
      "source": [
        "test_segment8 = np.array([[  0, 255, 255,   0,   0,   0,   0],\n",
        "                          [  0,   0, 255,   0,   0,   0,   0],\n",
        "                          [  0,   0, 255, 255,   0,   0,   0],\n",
        "                          [  0,   0,   0, 255,   0,   0,   0],\n",
        "                          [  0,   0,   0,   0,   0,   0,   0],\n",
        "                          [  0,   0,   0,   0,   0,   0,   0],\n",
        "                          [  0,   0,   0,   0,   0,   0,   0]])\n",
        "\n",
        "test_diagonal = np.array([[  0, 255, 255,   0,   0,   0,   0],\n",
        "                          [255,   0,   0, 255,   0,   0,   0],\n",
        "                          [  0, 255,   0,   0, 255,   0,   0],\n",
        "                          [  0,   0, 255,   0,   0, 255,   0],\n",
        "                          [  0,   0,   0, 255,   0,   0, 255],\n",
        "                          [  0,   0,   0,   0, 255,   0, 255],\n",
        "                          [  0,   0,   0,   0,   0, 255,   0]])\n",
        "\n",
        "#if (edge[i - 1][0] == edge[i][0] and abs(edge[i][0] - edge[i + 1][0]) == 1) or (edge[i - 1][1] == edge[i][1] and abs(edge[i][1] - edge[i + 1][1]) == 1):\n",
        "arr8 = manhattan_drow_edge(test_segment8, find_start(test_segment8))\n",
        "diag = manhattan_drow_edge(test_diagonal, find_start(test_diagonal))"
      ],
      "metadata": {
        "id": "NAw8pU8Yc0ln"
      },
      "execution_count": null,
      "outputs": []
    },
    {
      "cell_type": "code",
      "source": [
        "def get_quad_distance(A, B):\n",
        "  return ((B[0] - A[0])**2) + ((B[1] - A[1])**2)\n",
        "\n",
        "import math\n",
        "def distance(point1, point2):\n",
        "\t\treturn round(math.sqrt((point1[0] - point2[0])**2 + (point1[1] - point2[1])**2), 2)\n",
        "\n",
        "def get_distances(arr):\n",
        "  results = []\n",
        "  for i in range(len(arr)):\n",
        "    results.append(get_quad_distance(arr[i], arr[i - 1]))\n",
        "    #results.append(distance(arr[i], arr[i - 1]))\n",
        "  return results"
      ],
      "metadata": {
        "id": "uVoL5wqS06tY"
      },
      "execution_count": 10,
      "outputs": []
    },
    {
      "cell_type": "code",
      "source": [
        "def getX(arr):\n",
        "  results = []\n",
        "  for x in arr:\n",
        "    results.append(x[1])\n",
        "  return results\n",
        "\n",
        "def difference(arr):\n",
        "  return [abs(arr[x] - arr[x - 1]) for x in range(len(arr))]"
      ],
      "metadata": {
        "id": "GPkn_9IlO3AE"
      },
      "execution_count": 11,
      "outputs": []
    },
    {
      "cell_type": "code",
      "source": [
        "#Match a finestra fissa\n",
        "#i -> dimensione finestra\n",
        "\n",
        "from google.colab import output\n",
        "def new_match(arr1, arr2):\n",
        "  edge_1 = contours_simplifier(arr1.copy())\n",
        "  edge_2 = contours_simplifier(arr2.copy())\n",
        "  min_distance = float('inf')\n",
        "  min_coords = None\n",
        "  edge_min = min((edge_1, edge_2), key=len)\n",
        "  edge_min = edge_min[::-1]\n",
        "  edge_max = max((edge_1, edge_2), key=len)\n",
        "  len_max = len(edge_max)\n",
        "  len_min = len(edge_min)\n",
        "  edge_max_sides = get_distances(edge_max)\n",
        "  edge_min_sides = get_distances(edge_min)\n",
        "  i = 100\n",
        "  for x in range(0, len_max - i, 10):\n",
        "    for y in range(0, len_min - i, 10):\n",
        "      if 0.5 < sum(edge_max_sides[x+1:x+i+1]) / sum(edge_min_sides[y+1:y+i+1]) < 2:\n",
        "        distance = eval_match(edge_min[y:y+i], edge_max[x:x+i])\n",
        "\n",
        "      #if distance < 3.0:\n",
        "        if distance < min_distance:\n",
        "        #dizionario.update({distance:(x, x + size, y, y + size)} )\n",
        "          if (not attach_fragments(edge_min, edge_max, x, x + i, y, y + i)):\n",
        "            min_distance = distance\n",
        "            min_coords = (x, x + i, y, y + i)\n",
        "  return min_distance, min_coords"
      ],
      "metadata": {
        "id": "gnhqpBJVzzo7"
      },
      "execution_count": 12,
      "outputs": []
    },
    {
      "cell_type": "code",
      "source": [
        "#Ridefinizione del check di sovrapposizione con fine tuning per i bordi semplificati\n",
        "\n",
        "def check_inside_contours(edge_min, edge_max):\n",
        "  c = 0\n",
        "  for point in edge_min:\n",
        "    result = point_inside_polygon(point[0], point[1], edge_max)\n",
        "    if (result):\n",
        "      c += 1\n",
        "    else:\n",
        "      c = 0\n",
        "\n",
        "    if c > 10:\n",
        "      return True\n",
        "  return False"
      ],
      "metadata": {
        "id": "4fPmXFXbsWuH"
      },
      "execution_count": 24,
      "outputs": []
    },
    {
      "cell_type": "code",
      "source": [
        "#ATTACCA I PEZZI\n",
        "def merge_visualize(idx1, idx2, coords):\n",
        "  edge_1 = contours_simplifier(contours[idx1].copy())\n",
        "  edge_2 = contours_simplifier(contours[idx2].copy())\n",
        "  edge_min = min((edge_1, edge_2), key=len)\n",
        "  edge_min = edge_min[::-1]\n",
        "  edge_max = max((edge_1, edge_2), key=len)\n",
        "\n",
        "  shift = edge_max[coords[0]:coords[1]][0] - edge_min[coords[2]:coords[3]][0]\n",
        "  edge_min += shift\n",
        "\n",
        "  angle_prova = get_angle(edge_max[coords[0]:coords[1]][-1], edge_max[coords[0]:coords[1]][0], edge_min[coords[2]:coords[3]][-1])\n",
        "  edge_min = rotate(edge_min, edge_min[coords[2]:coords[3]][0], angle_prova)\n",
        "  edge_min = np.ceil(edge_min).astype(int)\n",
        "\n",
        "  while(get_cosine_angle(edge_max[coords[0]:coords[1]][-1], edge_max[coords[0]:coords[1]][0], edge_min[coords[2]:coords[3]][-1]) < 0.90):\n",
        "    angle_prova = get_angle(edge_max[coords[0]:coords[1]][-1], edge_max[coords[0]:coords[1]][0], edge_min[coords[2]:coords[3]][-1])\n",
        "    edge_min = rotate(edge_min, edge_min[coords[2]:coords[3]][0], angle_prova)\n",
        "    edge_min = np.ceil(edge_min).astype(int)\n",
        "\n",
        "  joined_coords = np.concatenate((edge_max, edge_min))\n",
        "\n",
        "  seg_edge = np.zeros((4016, 4016))\n",
        "  joined_coords += 500\n",
        "  x_coords, y_coords = joined_coords[:, 0], joined_coords[:, 1]\n",
        "  seg_edge[x_coords, y_coords] = 255\n",
        "  cv2_imshow(seg_edge)\n",
        "\n",
        "def merge_by_idx(idx1, idx2, coords):\n",
        "  edge_1 = contours_simplifier(contours[idx1].copy())\n",
        "  edge_2 = contours_simplifier(contours[idx2].copy())[::-1]\n",
        "\n",
        "  shift = edge_1[coords[0]:coords[1]][0] - edge_2[coords[2]:coords[3]][0]\n",
        "  edge_2 += shift\n",
        "\n",
        "  angle_prova = get_angle(edge_1[coords[0]:coords[1]][-1], edge_1[coords[0]:coords[1]][0], edge_2[coords[2]:coords[3]][-1])\n",
        "  edge_2 = rotate(edge_2, edge_2[coords[2]:coords[3]][0], angle_prova)\n",
        "  edge_2 = np.ceil(edge_2).astype(int)\n",
        "\n",
        "  while(get_cosine_angle(edge_1[coords[0]:coords[1]][-1], edge_1[coords[0]:coords[1]][0], edge_2[coords[2]:coords[3]][-1]) < 0.90):\n",
        "    angle_prova = get_angle(edge_1[coords[0]:coords[1]][-1], edge_1[coords[0]:coords[1]][0], edge_2[coords[2]:coords[3]][-1])\n",
        "    edge_2 = rotate(edge_2, edge_2[coords[2]:coords[3]][0], angle_prova)\n",
        "    edge_2 = np.ceil(edge_2).astype(int)\n",
        "\n",
        "  joined_coords = np.concatenate((edge_1, edge_2))\n",
        "\n",
        "  seg_edge = np.zeros((6016, 6016))\n",
        "  joined_coords += 500\n",
        "  x_coords, y_coords = joined_coords[:, 0], joined_coords[:, 1]\n",
        "  seg_edge[x_coords, y_coords] = 255\n",
        "  cv2_imshow(seg_edge)"
      ],
      "metadata": {
        "id": "TdkYggjoEhmg"
      },
      "execution_count": 14,
      "outputs": []
    },
    {
      "cell_type": "code",
      "source": [
        "#Match a dimensione della sliding window variabile\n",
        "\n",
        "from google.colab import output\n",
        "\n",
        "def new_match(arr1, arr2):\n",
        "  edge_1 = contours_simplifier(arr1.copy())\n",
        "  edge_2 = contours_simplifier(arr2.copy())\n",
        "  min_distance = float('inf')\n",
        "  min_coords = None\n",
        "  edge_min = min((edge_1, edge_2), key=len)\n",
        "  edge_min = edge_min[::-1]\n",
        "  edge_max = max((edge_1, edge_2), key=len)\n",
        "  len_max = len(edge_max)\n",
        "  len_min = len(edge_min)\n",
        "  edge_max_sides = get_distances(edge_max)\n",
        "  edge_min_sides = get_distances(edge_min)\n",
        "  for i in range(int(len_min / 8), int(len_min / 3), 10):  #10 4\n",
        "    output.clear()\n",
        "    print(round(((i - (len_min/8)) * 100) / ((len_min/3) - (len_min/8)), 2), \"%\")\n",
        "    for j in range(i - 5, i + 5):\n",
        "      for x in range(0, len_max - j, 10):\n",
        "        for y in range(0, len_min - i, 10):\n",
        "          if 0.99 < sum(edge_max_sides[x+1:x+j+1]) / sum(edge_min_sides[y+1:y+i+1]) < 1.01:\n",
        "            distance = eval_match(edge_min[y:y+i], edge_max[x:x+j])\n",
        "            if distance < min_distance:\n",
        "            #dizionario.update({distance:(x, x + size, y, y + size)} )\n",
        "              if (not attach_fragments(edge_min, edge_max, x, x + j, y, y + i)):\n",
        "                min_distance = distance\n",
        "                min_coords = (x, x + j, y, y + i)\n",
        "  return min_distance, min_coords"
      ],
      "metadata": {
        "id": "CQQXUNx58oB3"
      },
      "execution_count": 15,
      "outputs": []
    },
    {
      "cell_type": "code",
      "source": [
        "#Match a dimensioni della sliding windows multiple ma prefissate\n",
        "\n",
        "from google.colab import output\n",
        "\n",
        "def new_match(arr1, arr2):\n",
        "  edge_1 = contours_simplifier(arr1.copy())\n",
        "  edge_2 = contours_simplifier(arr2.copy())\n",
        "  min_distance = float('inf')\n",
        "  min_coords = None\n",
        "  edge_min = min((edge_1, edge_2), key=len)\n",
        "  edge_min = edge_min[::-1]\n",
        "  edge_max = max((edge_1, edge_2), key=len)\n",
        "  len_max = len(edge_max)\n",
        "  len_min = len(edge_min)\n",
        "  edge_max_sides = get_distances(edge_max)\n",
        "  edge_min_sides = get_distances(edge_min)\n",
        "  dimensions = [x for x in range(80, 260, 20)]\n",
        "  for i in dimensions:  #10 4\n",
        "    #output.clear()\n",
        "    #print(f\"{round((i - 80) / 2)}%\")\n",
        "    for j in dimensions:\n",
        "      for x in range(0, len_max - j, 10):\n",
        "        for y in range(0, len_min - i, 10):\n",
        "          if 0.99 < sum(edge_max_sides[x+1:x+j+1]) / sum(edge_min_sides[y+1:y+i+1]) < 1.01:\n",
        "            distance = eval_match(edge_min[y:y+i], edge_max[x:x+j])\n",
        "            if distance < min_distance:\n",
        "            #dizionario.update({distance:(x, x + size, y, y + size)} )\n",
        "              if (not attach_fragments(edge_min, edge_max, x, x + j, y, y + i)):\n",
        "                min_distance = distance\n",
        "                min_coords = (x, x + j, y, y + i)\n",
        "  return min_distance, min_coords"
      ],
      "metadata": {
        "id": "cyvfoIxSin0k"
      },
      "execution_count": 16,
      "outputs": []
    },
    {
      "cell_type": "code",
      "source": [
        "#Match a dimensioni della sliding windows multiple ma prefissate per pezzi multipli\n",
        "\n",
        "from google.colab import output\n",
        "\n",
        "def new_match_for_multi(arr1, arr2, best_score):\n",
        "  edge_1 = contours_simplifier(arr1.copy())\n",
        "  edge_2 = contours_simplifier(arr2.copy())\n",
        "  min_distance = float('inf')\n",
        "  min_coords = None\n",
        "  edge_min = min((edge_1, edge_2), key=len)\n",
        "  edge_min = edge_min[::-1]\n",
        "  edge_max = max((edge_1, edge_2), key=len)\n",
        "  len_max = len(edge_max)\n",
        "  len_min = len(edge_min)\n",
        "  edge_max_sides = get_distances(edge_max)\n",
        "  edge_min_sides = get_distances(edge_min)\n",
        "  dimensions = [x for x in range(80, 260, 20)]\n",
        "  for i in dimensions:  #10 4\n",
        "    #output.clear()\n",
        "    #print(f\"{round((i - 80) / 2)}%\")\n",
        "    for j in dimensions:\n",
        "      for x in range(0, len_max - j, 10):\n",
        "        for y in range(0, len_min - i, 10):\n",
        "          if 0.99 < sum(edge_max_sides[x+1:x+j+1]) / sum(edge_min_sides[y+1:y+i+1]) < 1.01:\n",
        "            distance = eval_match(edge_min[y:y+i], edge_max[x:x+j])\n",
        "            if distance < best_score and distance < min_distance:\n",
        "            #dizionario.update({distance:(x, x + size, y, y + size)} )\n",
        "              if (not attach_fragments(edge_min, edge_max, x, x + j, y, y + i)):\n",
        "                min_distance = distance\n",
        "                min_coords = (x, x + j, y, y + i)\n",
        "\n",
        "  return min_distance, min_coords"
      ],
      "metadata": {
        "id": "aYYtAFzvofk8"
      },
      "execution_count": 17,
      "outputs": []
    },
    {
      "cell_type": "code",
      "source": [
        "score, coords = new_match(contours[2], contours[3])   #1, 3, 400\n",
        "print(score)\n",
        "print(coords)"
      ],
      "metadata": {
        "colab": {
          "base_uri": "https://localhost:8080/"
        },
        "id": "NA3LKLgsiVrs",
        "outputId": "aacbd073-e384-4cbe-b4dc-4906717f2182"
      },
      "execution_count": null,
      "outputs": [
        {
          "output_type": "stream",
          "name": "stdout",
          "text": [
            "1.5898158387132886\n",
            "(1000, 1100, 330, 430)\n"
          ]
        }
      ]
    },
    {
      "cell_type": "code",
      "source": [
        "def test_match(idx1, idx2):\n",
        "  min_distance, min_coords = new_match(contours[idx1], contours[idx2])\n",
        "  print(min_distance)\n",
        "  print(coords)\n",
        "  merge_visualize(idx1, idx2, min_coords)\n",
        "#test_match(0, 1)"
      ],
      "metadata": {
        "id": "lNvB-LrKZDtR"
      },
      "execution_count": 18,
      "outputs": []
    },
    {
      "cell_type": "code",
      "source": [],
      "metadata": {
        "id": "Unh60GXPpBWs"
      },
      "execution_count": null,
      "outputs": []
    },
    {
      "cell_type": "code",
      "source": [
        "def eval_match(edge1, edge2):\n",
        "  if (len(edge1) == 1):\n",
        "    return float('inf')\n",
        "  #if (len(edge2) == 1):\n",
        "  #  return float('inf')\n",
        "  arr1 = edge1.copy()\n",
        "  arr2 = edge2.copy()\n",
        "  if True: #if check_length(arr1, arr2):  #check_euc_distance(arr1, arr2)\n",
        "    shift = arr1[0] - arr2[0]\n",
        "    arr2 += shift\n",
        "    arr2 = rotate(arr2, arr2[0], get_angle(arr1[-1], arr1[0], arr2[-1]))\n",
        "    while(get_cosine_angle(arr1[-1], arr1[0], arr2[-1]) < 0.90):\n",
        "      arr2 = rotate(arr2, arr2[0], get_angle(arr1[-1], arr1[0], arr2[-1]))\n",
        "    #return sliding_window_hausdorff_distance(arr1, arr2, 700) #TODO: al posto del 6 ci va la dimensione della sliding window\n",
        "    distance = calc_ratio(arr1, arr2)\n",
        "    return distance #/ len(arr1) / (euc_distance(arr1))\n",
        "  else:\n",
        "    return float('inf')"
      ],
      "metadata": {
        "id": "WPYL3ndLowSo"
      },
      "execution_count": null,
      "outputs": []
    },
    {
      "cell_type": "code",
      "source": [
        "from google.colab import output\n",
        "\n",
        "def find_corners(arr):\n",
        "  corners = []\n",
        "  length = len(arr)\n",
        "  for idx, point in enumerate(arr):\n",
        "    angle = get_angle(arr[idx - 3], point, arr[(idx + 3) % length])\n",
        "    if angle % 180 < 145:\n",
        "      corners.append(idx)\n",
        "  distances = get_distances([arr[i] for i in corners])\n",
        "  results = []\n",
        "  for idx, val in enumerate(corners):\n",
        "    if distances[idx] > 300 or distances[(idx + 1)%len(corners)] > 300:\n",
        "      results.append(val)\n",
        "  return results\n",
        "\n",
        "def match_whole_edges(arr1, arr2):\n",
        "  edge1 = contours_simplifier(arr1.copy())\n",
        "  edge2 = contours_simplifier(arr2.copy())[::-1]\n",
        "\n",
        "  min_distance = float('inf')\n",
        "  min_coords = None\n",
        "\n",
        "  edge_1_sides = get_distances(edge1)\n",
        "  edge_2_sides = get_distances(edge2)\n",
        "\n",
        "  corners_idx = find_corners(edge1)\n",
        "\n",
        "  stretching = True\n",
        "\n",
        "  for idx, corner in enumerate(corners_idx[:-1]):\n",
        "    length1 = sum(edge_1_sides[corner:corners_idx[idx+1]])\n",
        "    i, j = 0, 1\n",
        "    if length1 > 300:\n",
        "      print(f\"Analizing: {corner, corners_idx[idx+1]}\")\n",
        "      print(f\"Distance: {length1}\")\n",
        "      while i < len(edge2) and j < len(edge2):\n",
        "        window = edge2[i:j]\n",
        "        length2 = sum(edge_2_sides[i:j])\n",
        "        if length2 > 0 and 0.99 < length1 / length2 < 1.01:\n",
        "          distance = eval_match(window, edge1[corner:corners_idx[idx+1]])\n",
        "          if distance < min_distance:\n",
        "            if (not attach_fragments(edge2, edge1, corner, corners_idx[idx+1], i, j)):\n",
        "                min_distance = distance\n",
        "                min_coords = (corner, corners_idx[idx+1], i, j)\n",
        "          if stretching:\n",
        "            j = j + 1\n",
        "          else:\n",
        "            i = i + 1\n",
        "        elif length1 > length2:\n",
        "          j = j + 1\n",
        "          stretching = True\n",
        "        else:\n",
        "          i = i + 1\n",
        "          stretching = False\n",
        "  return min_distance, min_coords\n",
        "\n",
        "def test_last_match(idx1, idx2):\n",
        "  min_distance, min_coords = match_whole_edges(contours[idx1], contours[idx2])\n",
        "  print(\"__Winner__\")\n",
        "  print(min_distance)\n",
        "  print(min_coords)\n",
        "  merge_by_idx(idx1, idx2, min_coords)\n",
        "test_last_match(3, 2)"
      ],
      "metadata": {
        "id": "csXdsN9SXPiv",
        "outputId": "0d77c27e-175a-4d96-b183-bf51cce112a5",
        "colab": {
          "base_uri": "https://localhost:8080/",
          "height": 1000
        }
      },
      "execution_count": 83,
      "outputs": [
        {
          "output_type": "stream",
          "name": "stdout",
          "text": [
            "Analizing: (210, 265)\n",
            "Distance: 20370\n",
            "Analizing: (265, 271)\n",
            "Distance: 1882\n",
            "Analizing: (271, 329)\n",
            "Distance: 306\n",
            "Analizing: (329, 473)\n",
            "Distance: 4201\n",
            "Analizing: (473, 693)\n",
            "Distance: 4090\n",
            "__Winner__\n",
            "2.3786771216867724\n",
            "(271, 329, 13, 22)\n"
          ]
        },
        {
          "output_type": "display_data",
          "data": {
            "text/plain": [
              "<PIL.Image.Image image mode=L size=6016x6016>"
            ],
            "image/png": "[encoded data removed]"
          },
          "metadata": {}
        }
      ]
    },
    {
      "cell_type": "code",
      "source": [],
      "metadata": {
        "id": "WneJ8INrrabi"
      },
      "execution_count": null,
      "outputs": []
    },
    {
      "cell_type": "code",
      "source": [
        "def calc_ratio(arr1, arr2):\n",
        "  return abs(len(arr1) - len(arr2)) / max(len(arr1), len(arr2))"
      ],
      "metadata": {
        "id": "6OetOWLaraY7"
      },
      "execution_count": null,
      "outputs": []
    },
    {
      "cell_type": "code",
      "source": [
        "#COPIA: MATCHING ONLY WITH CORNERS\n",
        "\n",
        "from google.colab import output\n",
        "\n",
        "def find_corners(arr):\n",
        "  corners = []\n",
        "  length = len(arr)\n",
        "  for idx, point in enumerate(arr):\n",
        "    angle = get_angle(arr[idx - 3], point, arr[(idx + 3) % length])\n",
        "    if angle % 180 < 145:\n",
        "      corners.append(idx)\n",
        "  distances = get_distances([arr[i] for i in corners])\n",
        "  results = []\n",
        "  for idx, val in enumerate(corners):\n",
        "    if distances[idx] > 300 or distances[(idx + 1)%len(corners)] > 300:\n",
        "      results.append(val)\n",
        "  return results\n",
        "\n",
        "def match_whole_edges(arr1, arr2):\n",
        "  edge1 = contours_simplifier(arr1.copy())\n",
        "  edge2 = contours_simplifier(arr2.copy())[::-1]\n",
        "\n",
        "  min_distance = float('inf')\n",
        "  min_coords = None\n",
        "\n",
        "  corners_idx = edge1[find_corners(edge1)]\n",
        "\n",
        "  corners_idx2 = edge2[find_corners(edge2)]\n",
        "\n",
        "  stretching = True\n",
        "\n",
        "  for idx1, corner1 in enumerate(corners_idx[:-2]):\n",
        "    #for idx1_0, corner1_0 in enumerate(corners_idx[:-1], start=idx1+1):\n",
        "    for idx1_0 in range(idx1+1, len(corners_idx[:-1])):\n",
        "      corner1_0 = corners_idx[idx1_0]\n",
        "      length1 = math.sqrt((corner1_0[0] - corner1[0])**2 + (corner1_0[1] - corner1[1])**2)\n",
        "\n",
        "      if length1 > 300:\n",
        "\n",
        "        for idx2, corner2 in enumerate(corners_idx2[:-2]):\n",
        "          #for idx2_0, corner2_0 in enumerate(corners_idx2[:-1], start=idx2+1):\n",
        "          for idx2_0 in range(idx2+1, len(corners_idx2[:-1])):\n",
        "            corner2_0 = corners_idx2[idx2_0]\n",
        "            length2 = math.sqrt((corner2_0[0] - corner2[0])**2 + (corner2_0[1]- corner2[1])**2)\n",
        "            print(f\"Analizing corner 1: {corner1, corner1_0}\")\n",
        "            print(f\"Distance 1: {length1}\")\n",
        "            print(f\"Analizing corner 2: {corner2, corner2_0}\")\n",
        "            print(f\"Distance 2: {length2}\")\n",
        "\n",
        "            if abs(length1/length2) < min_distance:\n",
        "              if (not attach_fragments(edge2, edge1, np.where(edge1 == corner1)[0][0], np.where(edge1 == corner1_0)[0][0], np.where(edge2 == corner2)[0][0], np.where(edge2 == corner2_0)[0][0])):\n",
        "\n",
        "                min_distance = abs(length1/length2)\n",
        "                #min_coords = (edge1.tolist().index(corner1), edge1.tolist().index(corner1_0), edge2.tolist().index(corner2), edge2.tolist().index(corner2_0))\n",
        "                min_coords = (np.where(edge1 == corner1)[0][0], np.where(edge1 == corner1_0)[0][0], np.where(edge2 == corner2)[0][0], np.where(edge2 == corner2_0)[0][0])\n",
        "\n",
        "  return min_distance, min_coords\n",
        "\n",
        "def test_last_match(idx1, idx2):\n",
        "  min_distance, min_coords = match_whole_edges(contours[idx1], contours[idx2])\n",
        "  print(\"__Winner__\")\n",
        "  print(min_distance)\n",
        "  print(min_coords)\n",
        "  merge_by_coords(idx1, idx2, min_coords)\n",
        "test_last_match(3, 2)"
      ],
      "metadata": {
        "id": "gS7bUzlGraPg",
        "outputId": "490e6f77-97a0-45ff-a4ab-e538392f57aa",
        "colab": {
          "base_uri": "https://localhost:8080/",
          "height": 1000
        }
      },
      "execution_count": 118,
      "outputs": [
        {
          "output_type": "stream",
          "name": "stdout",
          "text": [
            "Analizing corner 1: (array([ 839, 1795]), array([1478, 1826]))\n",
            "Distance 1: 639.7515142615921\n",
            "Analizing corner 2: (array([ 877, 1210]), array([ 892, 1204]))\n",
            "Distance 2: 16.15549442140351\n",
            "Analizing corner 1: (array([ 839, 1795]), array([1478, 1826]))\n",
            "Distance 1: 639.7515142615921\n",
            "Analizing corner 2: (array([ 877, 1210]), array([1408, 1525]))\n",
            "Distance 2: 617.4026239011298\n",
            "Analizing corner 1: (array([ 839, 1795]), array([1478, 1826]))\n",
            "Distance 1: 639.7515142615921\n",
            "Analizing corner 2: (array([ 877, 1210]), array([1407, 1540]))\n",
            "Distance 2: 624.3396511515186\n",
            "Analizing corner 1: (array([ 839, 1795]), array([1478, 1826]))\n",
            "Distance 1: 639.7515142615921\n",
            "Analizing corner 2: (array([ 877, 1210]), array([ 918, 1721]))\n",
            "Distance 2: 512.6421754011271\n",
            "Analizing corner 1: (array([ 839, 1795]), array([1478, 1826]))\n",
            "Distance 1: 639.7515142615921\n",
            "Analizing corner 2: (array([ 892, 1204]), array([1408, 1525]))\n",
            "Distance 2: 607.6981158437139\n",
            "Analizing corner 1: (array([ 839, 1795]), array([1478, 1826]))\n",
            "Distance 1: 639.7515142615921\n",
            "Analizing corner 2: (array([ 892, 1204]), array([1407, 1540]))\n",
            "Distance 2: 614.9154413413279\n",
            "Analizing corner 1: (array([ 839, 1795]), array([1478, 1826]))\n",
            "Distance 1: 639.7515142615921\n",
            "Analizing corner 2: (array([ 892, 1204]), array([ 918, 1721]))\n",
            "Distance 2: 517.6533589188812\n",
            "Analizing corner 1: (array([ 839, 1795]), array([1478, 1826]))\n",
            "Distance 1: 639.7515142615921\n",
            "Analizing corner 2: (array([1408, 1525]), array([1407, 1540]))\n",
            "Distance 2: 15.033296378372908\n",
            "Analizing corner 1: (array([ 839, 1795]), array([1478, 1826]))\n",
            "Distance 1: 639.7515142615921\n",
            "Analizing corner 2: (array([1408, 1525]), array([ 918, 1721]))\n",
            "Distance 2: 527.7461510991814\n",
            "Analizing corner 1: (array([ 839, 1795]), array([1478, 1826]))\n",
            "Distance 1: 639.7515142615921\n",
            "Analizing corner 2: (array([1407, 1540]), array([ 918, 1721]))\n",
            "Distance 2: 521.4230528083698\n",
            "Analizing corner 1: (array([ 839, 1795]), array([1487, 1818]))\n",
            "Distance 1: 648.4080505360803\n",
            "Analizing corner 2: (array([ 877, 1210]), array([ 892, 1204]))\n",
            "Distance 2: 16.15549442140351\n",
            "Analizing corner 1: (array([ 839, 1795]), array([1487, 1818]))\n",
            "Distance 1: 648.4080505360803\n",
            "Analizing corner 2: (array([ 877, 1210]), array([1408, 1525]))\n",
            "Distance 2: 617.4026239011298\n",
            "Analizing corner 1: (array([ 839, 1795]), array([1487, 1818]))\n",
            "Distance 1: 648.4080505360803\n",
            "Analizing corner 2: (array([ 877, 1210]), array([1407, 1540]))\n",
            "Distance 2: 624.3396511515186\n",
            "Analizing corner 1: (array([ 839, 1795]), array([1487, 1818]))\n",
            "Distance 1: 648.4080505360803\n",
            "Analizing corner 2: (array([ 877, 1210]), array([ 918, 1721]))\n",
            "Distance 2: 512.6421754011271\n",
            "Analizing corner 1: (array([ 839, 1795]), array([1487, 1818]))\n",
            "Distance 1: 648.4080505360803\n",
            "Analizing corner 2: (array([ 892, 1204]), array([1408, 1525]))\n",
            "Distance 2: 607.6981158437139\n",
            "Analizing corner 1: (array([ 839, 1795]), array([1487, 1818]))\n",
            "Distance 1: 648.4080505360803\n",
            "Analizing corner 2: (array([ 892, 1204]), array([1407, 1540]))\n",
            "Distance 2: 614.9154413413279\n",
            "Analizing corner 1: (array([ 839, 1795]), array([1487, 1818]))\n",
            "Distance 1: 648.4080505360803\n",
            "Analizing corner 2: (array([ 892, 1204]), array([ 918, 1721]))\n",
            "Distance 2: 517.6533589188812\n",
            "Analizing corner 1: (array([ 839, 1795]), array([1487, 1818]))\n",
            "Distance 1: 648.4080505360803\n",
            "Analizing corner 2: (array([1408, 1525]), array([1407, 1540]))\n",
            "Distance 2: 15.033296378372908\n",
            "Analizing corner 1: (array([ 839, 1795]), array([1487, 1818]))\n",
            "Distance 1: 648.4080505360803\n",
            "Analizing corner 2: (array([1408, 1525]), array([ 918, 1721]))\n",
            "Distance 2: 527.7461510991814\n",
            "Analizing corner 1: (array([ 839, 1795]), array([1487, 1818]))\n",
            "Distance 1: 648.4080505360803\n",
            "Analizing corner 2: (array([1407, 1540]), array([ 918, 1721]))\n",
            "Distance 2: 521.4230528083698\n",
            "Analizing corner 1: (array([ 839, 1795]), array([1535, 1708]))\n",
            "Distance 1: 701.4164241019738\n",
            "Analizing corner 2: (array([ 877, 1210]), array([ 892, 1204]))\n",
            "Distance 2: 16.15549442140351\n",
            "Analizing corner 1: (array([ 839, 1795]), array([1535, 1708]))\n",
            "Distance 1: 701.4164241019738\n",
            "Analizing corner 2: (array([ 877, 1210]), array([1408, 1525]))\n",
            "Distance 2: 617.4026239011298\n"
          ]
        },
        {
          "output_type": "error",
          "ename": "IndexError",
          "evalue": "index 0 is out of bounds for axis 0 with size 0",
          "traceback": [
            "\u001b[0;31m---------------------------------------------------------------------------\u001b[0m",
            "\u001b[0;31mIndexError\u001b[0m                                Traceback (most recent call last)",
            "\u001b[0;32m<ipython-input-118-37f26291fe31>\u001b[0m in \u001b[0;36m<cell line: 65>\u001b[0;34m()\u001b[0m\n\u001b[1;32m     63\u001b[0m   \u001b[0mprint\u001b[0m\u001b[0;34m(\u001b[0m\u001b[0mmin_coords\u001b[0m\u001b[0;34m)\u001b[0m\u001b[0;34m\u001b[0m\u001b[0;34m\u001b[0m\u001b[0m\n\u001b[1;32m     64\u001b[0m   \u001b[0mmerge_by_coords\u001b[0m\u001b[0;34m(\u001b[0m\u001b[0midx1\u001b[0m\u001b[0;34m,\u001b[0m \u001b[0midx2\u001b[0m\u001b[0;34m,\u001b[0m \u001b[0mmin_coords\u001b[0m\u001b[0;34m)\u001b[0m\u001b[0;34m\u001b[0m\u001b[0;34m\u001b[0m\u001b[0m\n\u001b[0;32m---> 65\u001b[0;31m \u001b[0mtest_last_match\u001b[0m\u001b[0;34m(\u001b[0m\u001b[0;36m3\u001b[0m\u001b[0;34m,\u001b[0m \u001b[0;36m2\u001b[0m\u001b[0;34m)\u001b[0m\u001b[0;34m\u001b[0m\u001b[0;34m\u001b[0m\u001b[0m\n\u001b[0m",
            "\u001b[0;32m<ipython-input-118-37f26291fe31>\u001b[0m in \u001b[0;36mtest_last_match\u001b[0;34m(idx1, idx2)\u001b[0m\n\u001b[1;32m     58\u001b[0m \u001b[0;34m\u001b[0m\u001b[0m\n\u001b[1;32m     59\u001b[0m \u001b[0;32mdef\u001b[0m \u001b[0mtest_last_match\u001b[0m\u001b[0;34m(\u001b[0m\u001b[0midx1\u001b[0m\u001b[0;34m,\u001b[0m \u001b[0midx2\u001b[0m\u001b[0;34m)\u001b[0m\u001b[0;34m:\u001b[0m\u001b[0;34m\u001b[0m\u001b[0;34m\u001b[0m\u001b[0m\n\u001b[0;32m---> 60\u001b[0;31m   \u001b[0mmin_distance\u001b[0m\u001b[0;34m,\u001b[0m \u001b[0mmin_coords\u001b[0m \u001b[0;34m=\u001b[0m \u001b[0mmatch_whole_edges\u001b[0m\u001b[0;34m(\u001b[0m\u001b[0mcontours\u001b[0m\u001b[0;34m[\u001b[0m\u001b[0midx1\u001b[0m\u001b[0;34m]\u001b[0m\u001b[0;34m,\u001b[0m \u001b[0mcontours\u001b[0m\u001b[0;34m[\u001b[0m\u001b[0midx2\u001b[0m\u001b[0;34m]\u001b[0m\u001b[0;34m)\u001b[0m\u001b[0;34m\u001b[0m\u001b[0;34m\u001b[0m\u001b[0m\n\u001b[0m\u001b[1;32m     61\u001b[0m   \u001b[0mprint\u001b[0m\u001b[0;34m(\u001b[0m\u001b[0;34m\"__Winner__\"\u001b[0m\u001b[0;34m)\u001b[0m\u001b[0;34m\u001b[0m\u001b[0;34m\u001b[0m\u001b[0m\n\u001b[1;32m     62\u001b[0m   \u001b[0mprint\u001b[0m\u001b[0;34m(\u001b[0m\u001b[0mmin_distance\u001b[0m\u001b[0;34m)\u001b[0m\u001b[0;34m\u001b[0m\u001b[0;34m\u001b[0m\u001b[0m\n",
            "\u001b[0;32m<ipython-input-118-37f26291fe31>\u001b[0m in \u001b[0;36mmatch_whole_edges\u001b[0;34m(arr1, arr2)\u001b[0m\n\u001b[1;32m     49\u001b[0m \u001b[0;34m\u001b[0m\u001b[0m\n\u001b[1;32m     50\u001b[0m             \u001b[0;32mif\u001b[0m \u001b[0mabs\u001b[0m\u001b[0;34m(\u001b[0m\u001b[0mlength1\u001b[0m\u001b[0;34m/\u001b[0m\u001b[0mlength2\u001b[0m\u001b[0;34m)\u001b[0m \u001b[0;34m<\u001b[0m \u001b[0mmin_distance\u001b[0m\u001b[0;34m:\u001b[0m\u001b[0;34m\u001b[0m\u001b[0;34m\u001b[0m\u001b[0m\n\u001b[0;32m---> 51\u001b[0;31m               \u001b[0;32mif\u001b[0m \u001b[0;34m(\u001b[0m\u001b[0;32mnot\u001b[0m \u001b[0mattach_fragments\u001b[0m\u001b[0;34m(\u001b[0m\u001b[0medge2\u001b[0m\u001b[0;34m,\u001b[0m \u001b[0medge1\u001b[0m\u001b[0;34m,\u001b[0m \u001b[0mnp\u001b[0m\u001b[0;34m.\u001b[0m\u001b[0mwhere\u001b[0m\u001b[0;34m(\u001b[0m\u001b[0medge1\u001b[0m \u001b[0;34m==\u001b[0m \u001b[0mcorner1\u001b[0m\u001b[0;34m)\u001b[0m\u001b[0;34m[\u001b[0m\u001b[0;36m0\u001b[0m\u001b[0;34m]\u001b[0m\u001b[0;34m[\u001b[0m\u001b[0;36m0\u001b[0m\u001b[0;34m]\u001b[0m\u001b[0;34m,\u001b[0m \u001b[0mnp\u001b[0m\u001b[0;34m.\u001b[0m\u001b[0mwhere\u001b[0m\u001b[0;34m(\u001b[0m\u001b[0medge1\u001b[0m \u001b[0;34m==\u001b[0m \u001b[0mcorner1_0\u001b[0m\u001b[0;34m)\u001b[0m\u001b[0;34m[\u001b[0m\u001b[0;36m0\u001b[0m\u001b[0;34m]\u001b[0m\u001b[0;34m[\u001b[0m\u001b[0;36m0\u001b[0m\u001b[0;34m]\u001b[0m\u001b[0;34m,\u001b[0m \u001b[0mnp\u001b[0m\u001b[0;34m.\u001b[0m\u001b[0mwhere\u001b[0m\u001b[0;34m(\u001b[0m\u001b[0medge2\u001b[0m \u001b[0;34m==\u001b[0m \u001b[0mcorner2\u001b[0m\u001b[0;34m)\u001b[0m\u001b[0;34m[\u001b[0m\u001b[0;36m0\u001b[0m\u001b[0;34m]\u001b[0m\u001b[0;34m[\u001b[0m\u001b[0;36m0\u001b[0m\u001b[0;34m]\u001b[0m\u001b[0;34m,\u001b[0m \u001b[0mnp\u001b[0m\u001b[0;34m.\u001b[0m\u001b[0mwhere\u001b[0m\u001b[0;34m(\u001b[0m\u001b[0medge2\u001b[0m \u001b[0;34m==\u001b[0m \u001b[0mcorner2_0\u001b[0m\u001b[0;34m)\u001b[0m\u001b[0;34m[\u001b[0m\u001b[0;36m0\u001b[0m\u001b[0;34m]\u001b[0m\u001b[0;34m[\u001b[0m\u001b[0;36m0\u001b[0m\u001b[0;34m]\u001b[0m\u001b[0;34m)\u001b[0m\u001b[0;34m)\u001b[0m\u001b[0;34m:\u001b[0m\u001b[0;34m\u001b[0m\u001b[0;34m\u001b[0m\u001b[0m\n\u001b[0m\u001b[1;32m     52\u001b[0m \u001b[0;34m\u001b[0m\u001b[0m\n\u001b[1;32m     53\u001b[0m                 \u001b[0mmin_distance\u001b[0m \u001b[0;34m=\u001b[0m \u001b[0mabs\u001b[0m\u001b[0;34m(\u001b[0m\u001b[0mlength1\u001b[0m\u001b[0;34m/\u001b[0m\u001b[0mlength2\u001b[0m\u001b[0;34m)\u001b[0m\u001b[0;34m\u001b[0m\u001b[0;34m\u001b[0m\u001b[0m\n",
            "\u001b[0;32m<ipython-input-8-8c398538f098>\u001b[0m in \u001b[0;36mattach_fragments\u001b[0;34m(edgeMin, edgeMax, x, x_size, y, y_size)\u001b[0m\n\u001b[1;32m      2\u001b[0m   \u001b[0medge_min\u001b[0m \u001b[0;34m=\u001b[0m \u001b[0medgeMin\u001b[0m\u001b[0;34m.\u001b[0m\u001b[0mcopy\u001b[0m\u001b[0;34m(\u001b[0m\u001b[0;34m)\u001b[0m\u001b[0;34m\u001b[0m\u001b[0;34m\u001b[0m\u001b[0m\n\u001b[1;32m      3\u001b[0m   \u001b[0medge_max\u001b[0m \u001b[0;34m=\u001b[0m \u001b[0medgeMax\u001b[0m\u001b[0;34m.\u001b[0m\u001b[0mcopy\u001b[0m\u001b[0;34m(\u001b[0m\u001b[0;34m)\u001b[0m\u001b[0;34m\u001b[0m\u001b[0;34m\u001b[0m\u001b[0m\n\u001b[0;32m----> 4\u001b[0;31m   \u001b[0mshift\u001b[0m \u001b[0;34m=\u001b[0m \u001b[0medge_max\u001b[0m\u001b[0;34m[\u001b[0m\u001b[0mx\u001b[0m\u001b[0;34m:\u001b[0m\u001b[0mx_size\u001b[0m\u001b[0;34m]\u001b[0m\u001b[0;34m[\u001b[0m\u001b[0;36m0\u001b[0m\u001b[0;34m]\u001b[0m \u001b[0;34m-\u001b[0m \u001b[0medge_min\u001b[0m\u001b[0;34m[\u001b[0m\u001b[0my\u001b[0m\u001b[0;34m:\u001b[0m\u001b[0my_size\u001b[0m\u001b[0;34m]\u001b[0m\u001b[0;34m[\u001b[0m\u001b[0;36m0\u001b[0m\u001b[0;34m]\u001b[0m\u001b[0;34m\u001b[0m\u001b[0;34m\u001b[0m\u001b[0m\n\u001b[0m\u001b[1;32m      5\u001b[0m   \u001b[0medge_min\u001b[0m \u001b[0;34m+=\u001b[0m \u001b[0mshift\u001b[0m\u001b[0;34m\u001b[0m\u001b[0;34m\u001b[0m\u001b[0m\n\u001b[1;32m      6\u001b[0m \u001b[0;34m\u001b[0m\u001b[0m\n",
            "\u001b[0;31mIndexError\u001b[0m: index 0 is out of bounds for axis 0 with size 0"
          ]
        }
      ]
    },
    {
      "cell_type": "code",
      "source": [
        "def merge_by_coords(idx1, idx2, coords):\n",
        "  edge_1 = contours_simplifier(contours[idx1].copy())\n",
        "  edge_2 = contours_simplifier(contours[idx2].copy())[::-1]\n",
        "\n",
        "  print(coords[0])\n",
        "\n",
        "  shift = edge_1[coords[0]:coords[1]][0] - edge_2[coords[2]:coords[3]][0]\n",
        "  #shift = edge_1[coords[0]][0] - edge_2[coords[2]][0]\n",
        "  edge_2 += shift\n",
        "\n",
        "  angle_prova = get_angle(edge_1[coords[0]:coords[1]][-1], edge_1[coords[0]:coords[1]][0], edge_2[coords[2]:coords[3]][-1])\n",
        "  edge_2 = rotate(edge_2, edge_2[coords[2]:coords[3]][0], angle_prova)\n",
        "  edge_2 = np.ceil(edge_2).astype(int)\n",
        "\n",
        "  while(get_cosine_angle(edge_1[coords[0]:coords[1]][-1], edge_1[coords[0]:coords[1]][0], edge_2[coords[2]:coords[3]][-1]) < 0.90):\n",
        "    angle_prova = get_angle(edge_1[coords[0]:coords[1]][-1], edge_1[coords[0]:coords[1]][0], edge_2[coords[2]:coords[3]][-1])\n",
        "    edge_2 = rotate(edge_2, edge_2[coords[2]:coords[3]][0], angle_prova)\n",
        "    edge_2 = np.ceil(edge_2).astype(int)\n",
        "\n",
        "  joined_coords = np.concatenate((edge_1, edge_2))\n",
        "\n",
        "  seg_edge = np.zeros((6016, 6016))\n",
        "  joined_coords += 500\n",
        "  x_coords, y_coords = joined_coords[:, 0], joined_coords[:, 1]\n",
        "  seg_edge[x_coords, y_coords] = 255\n",
        "  cv2_imshow(seg_edge)"
      ],
      "metadata": {
        "id": "9Cd4H-xYt5U_"
      },
      "execution_count": 112,
      "outputs": []
    },
    {
      "cell_type": "code",
      "source": [],
      "metadata": {
        "id": "X8P2eeLit430"
      },
      "execution_count": null,
      "outputs": []
    },
    {
      "cell_type": "code",
      "source": [],
      "metadata": {
        "id": "3Y6MQVvErbXH"
      },
      "execution_count": null,
      "outputs": []
    },
    {
      "cell_type": "code",
      "source": [
        "seg_edge = np.zeros((4016, 4016))\n",
        "x_coords, y_coords = contours[2][:, 0], contours[2][:, 1]\n",
        "seg_edge[x_coords, y_coords] = 255\n",
        "cv2_imshow(seg_edge)"
      ],
      "metadata": {
        "id": "Fk4XmirgP3q0"
      },
      "execution_count": null,
      "outputs": []
    },
    {
      "cell_type": "code",
      "source": [
        "seg_edge = np.zeros((3016, 3016))\n",
        "corners = find_corners(contours_simplifier(contours[3].copy()))\n",
        "simple = contours_simplifier(contours[3].copy())\n",
        "x_coords = [simple[x][0] for x in corners]\n",
        "y_coords = [simple[x][1] for x in corners]\n",
        "print(x_coords)\n",
        "print(y_coords)\n",
        "seg_edge[x_coords, y_coords] = 255\n",
        "plt.plot(x_coords, y_coords, marker='o')\n",
        "#cv2_imshow(seg_edge)"
      ],
      "metadata": {
        "id": "nmvdpo_ZR8l6",
        "outputId": "e0c27056-5158-4b3f-9da1-c6d956a6c5fa",
        "colab": {
          "base_uri": "https://localhost:8080/",
          "height": 484
        }
      },
      "execution_count": 84,
      "outputs": [
        {
          "output_type": "stream",
          "name": "stdout",
          "text": [
            "[839, 848, 1478, 1487, 1535, 1246, 778, 756]\n",
            "[1795, 1801, 1826, 1818, 1708, 1342, 1000, 1006]\n"
          ]
        },
        {
          "output_type": "execute_result",
          "data": {
            "text/plain": [
              "[<matplotlib.lines.Line2D at 0x7fe2c78d3f40>]"
            ]
          },
          "metadata": {},
          "execution_count": 84
        },
        {
          "output_type": "display_data",
          "data": {
            "text/plain": [
              "<Figure size 640x480 with 1 Axes>"
            ],
            "image/png": "[encoded data removed]"
          },
          "metadata": {}
        }
      ]
    },
    {
      "cell_type": "code",
      "source": [
        "def test_multiple_match():\n",
        "  min_distance = 100\n",
        "  bestX, bestY = -1, -1\n",
        "  for x in range(3):\n",
        "    #output.clear()\n",
        "    #print(f\"{(x*100)/6}%\")\n",
        "    for y in range(x + 1, 4):\n",
        "      output.clear()\n",
        "      print(x, y)\n",
        "      score, coords = new_match_for_multi(contours[x], contours[y], min_distance)\n",
        "      if score < min_distance:\n",
        "        min_distance = score\n",
        "        min_coords = coords\n",
        "        bestX = x\n",
        "        bestY = y\n",
        "\n",
        "  #TODO creazione del nuovo pezzo definito dal marge del match migliore e reiterare il metodo sostituendo i 2 pezzi \"vincitori\"\n",
        "  #col loro merge\n",
        "  print(min_distance)\n",
        "  print(min_coords)\n",
        "  print(bestX, bestY)\n",
        "  merge_visualize(bestX, bestY, min_coords)\n",
        "\n",
        "test_multiple_match()"
      ],
      "metadata": {
        "id": "-M9MlGpIk-YM"
      },
      "execution_count": null,
      "outputs": []
    },
    {
      "cell_type": "code",
      "source": [],
      "metadata": {
        "id": "4UKfdecXnLs6"
      },
      "execution_count": null,
      "outputs": []
    },
    {
      "cell_type": "code",
      "source": [],
      "metadata": {
        "id": "rm_nY9NmnLrd"
      },
      "execution_count": null,
      "outputs": []
    },
    {
      "cell_type": "code",
      "source": [],
      "metadata": {
        "id": "dBrdoV4_nLoo"
      },
      "execution_count": null,
      "outputs": []
    },
    {
      "cell_type": "code",
      "source": [],
      "metadata": {
        "id": "BhnHiEyUnLm9"
      },
      "execution_count": null,
      "outputs": []
    },
    {
      "cell_type": "code",
      "source": [],
      "metadata": {
        "id": "HASKucLfnLj0"
      },
      "execution_count": null,
      "outputs": []
    },
    {
      "cell_type": "code",
      "source": [],
      "metadata": {
        "id": "lzjgUAXgnLhY"
      },
      "execution_count": null,
      "outputs": []
    },
    {
      "cell_type": "code",
      "source": [],
      "metadata": {
        "id": "v_nvelxgnLe_"
      },
      "execution_count": null,
      "outputs": []
    },
    {
      "cell_type": "code",
      "source": [],
      "metadata": {
        "id": "ypNQSXDUnLWo"
      },
      "execution_count": null,
      "outputs": []
    },
    {
      "cell_type": "code",
      "source": [
        "from google.colab import output\n",
        "\n",
        "def find_corners(arr):\n",
        "  corners = []\n",
        "  length = len(arr)\n",
        "  for idx, point in enumerate(arr):\n",
        "    angle = get_angle(arr[idx - 3], point, arr[(idx + 3) % length])\n",
        "    if angle % 180 < 145:\n",
        "      corners.append(idx)\n",
        "  distances = get_distances([arr[i] for i in corners])\n",
        "  results = []\n",
        "  for idx, val in enumerate(corners):\n",
        "    if distances[idx] > 300 or distances[(idx + 1)%len(corners)] > 300:\n",
        "      results.append(val)\n",
        "  return results\n",
        "\n",
        "def match_fragments(arr1, arr2):\n",
        "  edge1 = contours_simplifier(arr1.copy())\n",
        "  edge2 = contours_simplifier(arr2.copy())[::-1]\n",
        "\n",
        "  min_distance = float('inf')\n",
        "  min_coords = None\n",
        "\n",
        "  edge_1_sides = get_distances(edge1)\n",
        "  edge_2_sides = get_distances(edge2)\n",
        "\n",
        "  corners_idx = find_corners(edge1)\n",
        "\n",
        "  stretching = True\n",
        "\n",
        "  for idx, corner in enumerate(corners_idx[:-1]):\n",
        "    length1 = sum(edge_1_sides[corner:corners_idx[idx+1]])\n",
        "    i, j = 0, 1\n",
        "    if length1 > 300:\n",
        "      print(f\"Analizing: {corner, corners_idx[idx+1]}\")\n",
        "      print(f\"Distance: {length1}\")\n",
        "      while i < len(edge2) and j < len(edge2):\n",
        "        window = edge2[i:j]\n",
        "        length2 = sum(edge_2_sides[i:j])\n",
        "        if length2 > 0 and 0.99 < length1 / length2 < 1.01:\n",
        "          distance = eval_match(window, edge1[corner:corners_idx[idx+1]])\n",
        "          if distance < min_distance:\n",
        "            if (not attach_fragments(edge2, edge1, corner, corners_idx[idx+1], i, j)):\n",
        "                min_distance = distance\n",
        "                min_coords = (corner, corners_idx[idx+1], i, j)\n",
        "          if stretching:\n",
        "            j = j + 1\n",
        "          else:\n",
        "            i = i + 1\n",
        "        elif length1 > length2:\n",
        "          j = j + 1\n",
        "          stretching = True\n",
        "        else:\n",
        "          i = i + 1\n",
        "          stretching = False\n",
        "  return min_distance, min_coords\n",
        "\n",
        "def match_whole_fragments(idx1, idx2):\n",
        "  min_distance, min_coords = match_fragments(contours[idx1], contours[idx2])\n",
        "  print(\"__Winner__\")\n",
        "  print(min_distance)\n",
        "  print(min_coords)\n",
        "  merge_by_idx(idx1, idx2, min_coords)\n",
        "\n",
        "\n",
        "match_whole_fragments(contours)"
      ],
      "metadata": {
        "id": "ehmEm-H8p_Or"
      },
      "execution_count": null,
      "outputs": []
    }
  ]
}