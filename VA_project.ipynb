{
  "nbformat": 4,
  "nbformat_minor": 0,
  "metadata": {
    "colab": {
      "provenance": [],
      "gpuType": "T4",
      "include_colab_link": true
    },
    "kernelspec": {
      "name": "python3",
      "display_name": "Python 3"
    },
    "language_info": {
      "name": "python"
    },
    "accelerator": "GPU"
  },
  "cells": [
    {
      "cell_type": "markdown",
      "metadata": {
        "id": "view-in-github",
        "colab_type": "text"
      },
      "source": [
        "<a href=\"https://colab.research.google.com/github/Totti00/VA_Project/blob/main/VA_project.ipynb\" target=\"_parent\"><img src=\"https://colab.research.google.com/assets/colab-badge.svg\" alt=\"Open In Colab\"/></a>"
      ]
    },
    {
      "cell_type": "markdown",
      "source": [
        "First commit"
      ],
      "metadata": {
        "id": "_8SYVib9kmcz"
      }
    },
    {
      "cell_type": "code",
      "execution_count": 126,
      "metadata": {
        "id": "9qyvjwg1kRPh",
        "outputId": "5d93d3fd-4005-4b6e-c13c-f8b71dc96976",
        "colab": {
          "base_uri": "https://localhost:8080/"
        }
      },
      "outputs": [
        {
          "output_type": "stream",
          "name": "stdout",
          "text": [
            "--2024-02-16 15:35:46--  https://www.dropbox.com/scl/fi/ybx2y1kvy99e2240gc9gg/san-vitale-challenge-dataset.zip?rlkey=kaye183spvmgyqx378rehrzjn\n",
            "Resolving www.dropbox.com (www.dropbox.com)... 162.125.71.18, 2620:100:6021:18::a27d:4112\n",
            "Connecting to www.dropbox.com (www.dropbox.com)|162.125.71.18|:443... connected.\n",
            "HTTP request sent, awaiting response... 302 Found\n",
            "Location: https://ucb1cb935ee4497d4b929d9e2925.dl.dropboxusercontent.com/cd/0/inline/CNb6FZqVJQLBMPjzpvZiKJRwhc7HEnJyvZ9xHczHrxM0U_FjHPjcFCKJpH0plVmY-pvBBvjUEQHvp3I6Z8Xx4e_oS-Sg7U6V_uHPiRcnpatmG1BlAJlrRIXEzOBeTUxTspKpLPwa7rPrkU4kzSmUIqZA/file# [following]\n",
            "--2024-02-16 15:35:47--  https://ucb1cb935ee4497d4b929d9e2925.dl.dropboxusercontent.com/cd/0/inline/CNb6FZqVJQLBMPjzpvZiKJRwhc7HEnJyvZ9xHczHrxM0U_FjHPjcFCKJpH0plVmY-pvBBvjUEQHvp3I6Z8Xx4e_oS-Sg7U6V_uHPiRcnpatmG1BlAJlrRIXEzOBeTUxTspKpLPwa7rPrkU4kzSmUIqZA/file\n",
            "Resolving ucb1cb935ee4497d4b929d9e2925.dl.dropboxusercontent.com (ucb1cb935ee4497d4b929d9e2925.dl.dropboxusercontent.com)... 162.125.65.15, 2620:100:6021:15::a27d:410f\n",
            "Connecting to ucb1cb935ee4497d4b929d9e2925.dl.dropboxusercontent.com (ucb1cb935ee4497d4b929d9e2925.dl.dropboxusercontent.com)|162.125.65.15|:443... connected.\n",
            "HTTP request sent, awaiting response... 302 Found\n",
            "Location: /cd/0/inline2/CNbuaWSvSVR47j_N-uxTc4bBAT6K277yob3P4ZLdGnGm0hIvrDMNxZmKJKUEXaVx6hB8woHKsbkPgcOs_pnt3iYDVuVj8ktW2dcfAOglB_tFG-hao1AEn2NeNG0GKiZIPJb_Cyaa_e2Z3xx0noe33uCTr8fODJ6XFoF5CxTTC2rQ4lva37CIQKYm5oAKLUicls54Lt1vpmC-PE5KacPnpYsoTORJDXccir4Sjtx79Nj8zDG50-qKBZWzf_w3CfUsOiK8xasXFy2dyT8xjJNI-W9ihMaL_5_DvaKKlZzltTTm29zVk7uFs4FbfjSgqLnBeHSkizakCZxIxyWPJ4STQ6nRPPlmqAjcr_xlwsGE3atEZVscH9EAdtQWGwJzDDhBsSU/file [following]\n",
            "--2024-02-16 15:35:48--  https://ucb1cb935ee4497d4b929d9e2925.dl.dropboxusercontent.com/cd/0/inline2/CNbuaWSvSVR47j_N-uxTc4bBAT6K277yob3P4ZLdGnGm0hIvrDMNxZmKJKUEXaVx6hB8woHKsbkPgcOs_pnt3iYDVuVj8ktW2dcfAOglB_tFG-hao1AEn2NeNG0GKiZIPJb_Cyaa_e2Z3xx0noe33uCTr8fODJ6XFoF5CxTTC2rQ4lva37CIQKYm5oAKLUicls54Lt1vpmC-PE5KacPnpYsoTORJDXccir4Sjtx79Nj8zDG50-qKBZWzf_w3CfUsOiK8xasXFy2dyT8xjJNI-W9ihMaL_5_DvaKKlZzltTTm29zVk7uFs4FbfjSgqLnBeHSkizakCZxIxyWPJ4STQ6nRPPlmqAjcr_xlwsGE3atEZVscH9EAdtQWGwJzDDhBsSU/file\n",
            "Reusing existing connection to ucb1cb935ee4497d4b929d9e2925.dl.dropboxusercontent.com:443.\n",
            "HTTP request sent, awaiting response... 200 OK\n",
            "Length: 1527928574 (1.4G) [application/zip]\n",
            "Saving to: ‘san-vitale-challenge-dataset.zip?rlkey=kaye183spvmgyqx378rehrzjn’\n",
            "\n",
            "san-vitale-challeng 100%[===================>]   1.42G  38.6MB/s    in 39s     \n",
            "\n",
            "2024-02-16 15:36:28 (37.0 MB/s) - ‘san-vitale-challenge-dataset.zip?rlkey=kaye183spvmgyqx378rehrzjn’ saved [1527928574/1527928574]\n",
            "\n"
          ]
        }
      ],
      "source": [
        "!wget https://www.dropbox.com/scl/fi/ybx2y1kvy99e2240gc9gg/san-vitale-challenge-dataset.zip?rlkey=kaye183spvmgyqx378rehrzjn&dl=0\n",
        "!unzip -q san-vitale-challenge-dataset.zip?rlkey=kaye183spvmgyqx378rehrzjn\n",
        "!rm san-vitale-challenge-dataset.zip?rlkey=kaye183spvmgyqx378rehrzjn"
      ]
    },
    {
      "cell_type": "code",
      "source": [
        "!pip install -q 'git+https://github.com/facebookresearch/segment-anything.git'\n",
        "!pip install uvicorn\n",
        "!pip install python-multipart\n",
        "!pip install kaleido\n",
        "!pip install fastapi\n",
        "!pip install -q jupyter_bbox_widget roboflow dataclasses-json supervision"
      ],
      "metadata": {
        "id": "-Np5diWo1xNG",
        "outputId": "7099dfc6-6f72-45b2-a87c-cf57f1fd0cee",
        "colab": {
          "base_uri": "https://localhost:8080/"
        }
      },
      "execution_count": 127,
      "outputs": [
        {
          "output_type": "stream",
          "name": "stdout",
          "text": [
            "  Preparing metadata (setup.py) ... \u001b[?25l\u001b[?25hdone\n",
            "  Building wheel for segment-anything (setup.py) ... \u001b[?25l\u001b[?25hdone\n",
            "Collecting uvicorn\n",
            "  Downloading uvicorn-0.27.1-py3-none-any.whl (60 kB)\n",
            "\u001b[2K     \u001b[90m━━━━━━━━━━━━━━━━━━━━━━━━━━━━━━━━━━━━━━━━\u001b[0m \u001b[32m60.8/60.8 kB\u001b[0m \u001b[31m2.3 MB/s\u001b[0m eta \u001b[36m0:00:00\u001b[0m\n",
            "\u001b[?25hRequirement already satisfied: click>=7.0 in /usr/local/lib/python3.10/dist-packages (from uvicorn) (8.1.7)\n",
            "Collecting h11>=0.8 (from uvicorn)\n",
            "  Downloading h11-0.14.0-py3-none-any.whl (58 kB)\n",
            "\u001b[2K     \u001b[90m━━━━━━━━━━━━━━━━━━━━━━━━━━━━━━━━━━━━━━━━\u001b[0m \u001b[32m58.3/58.3 kB\u001b[0m \u001b[31m5.2 MB/s\u001b[0m eta \u001b[36m0:00:00\u001b[0m\n",
            "\u001b[?25hRequirement already satisfied: typing-extensions>=4.0 in /usr/local/lib/python3.10/dist-packages (from uvicorn) (4.9.0)\n",
            "Installing collected packages: h11, uvicorn\n",
            "\u001b[31mERROR: pip's dependency resolver does not currently take into account all the packages that are installed. This behaviour is the source of the following dependency conflicts.\n",
            "lida 0.0.10 requires fastapi, which is not installed.\n",
            "lida 0.0.10 requires kaleido, which is not installed.\n",
            "lida 0.0.10 requires python-multipart, which is not installed.\u001b[0m\u001b[31m\n",
            "\u001b[0mSuccessfully installed h11-0.14.0 uvicorn-0.27.1\n",
            "Collecting python-multipart\n",
            "  Downloading python_multipart-0.0.9-py3-none-any.whl (22 kB)\n",
            "Installing collected packages: python-multipart\n",
            "\u001b[31mERROR: pip's dependency resolver does not currently take into account all the packages that are installed. This behaviour is the source of the following dependency conflicts.\n",
            "lida 0.0.10 requires fastapi, which is not installed.\n",
            "lida 0.0.10 requires kaleido, which is not installed.\u001b[0m\u001b[31m\n",
            "\u001b[0mSuccessfully installed python-multipart-0.0.9\n",
            "Collecting kaleido\n",
            "  Downloading kaleido-0.2.1-py2.py3-none-manylinux1_x86_64.whl (79.9 MB)\n",
            "\u001b[2K     \u001b[90m━━━━━━━━━━━━━━━━━━━━━━━━━━━━━━━━━━━━━━━━\u001b[0m \u001b[32m79.9/79.9 MB\u001b[0m \u001b[31m8.6 MB/s\u001b[0m eta \u001b[36m0:00:00\u001b[0m\n",
            "\u001b[?25hInstalling collected packages: kaleido\n",
            "\u001b[31mERROR: pip's dependency resolver does not currently take into account all the packages that are installed. This behaviour is the source of the following dependency conflicts.\n",
            "lida 0.0.10 requires fastapi, which is not installed.\u001b[0m\u001b[31m\n",
            "\u001b[0mSuccessfully installed kaleido-0.2.1\n",
            "Collecting fastapi\n",
            "  Downloading fastapi-0.109.2-py3-none-any.whl (92 kB)\n",
            "\u001b[2K     \u001b[90m━━━━━━━━━━━━━━━━━━━━━━━━━━━━━━━━━━━━━━━━\u001b[0m \u001b[32m92.1/92.1 kB\u001b[0m \u001b[31m3.6 MB/s\u001b[0m eta \u001b[36m0:00:00\u001b[0m\n",
            "\u001b[?25hRequirement already satisfied: pydantic!=1.8,!=1.8.1,!=2.0.0,!=2.0.1,!=2.1.0,<3.0.0,>=1.7.4 in /usr/local/lib/python3.10/dist-packages (from fastapi) (2.6.1)\n",
            "Collecting starlette<0.37.0,>=0.36.3 (from fastapi)\n",
            "  Downloading starlette-0.36.3-py3-none-any.whl (71 kB)\n",
            "\u001b[2K     \u001b[90m━━━━━━━━━━━━━━━━━━━━━━━━━━━━━━━━━━━━━━━━\u001b[0m \u001b[32m71.5/71.5 kB\u001b[0m \u001b[31m6.2 MB/s\u001b[0m eta \u001b[36m0:00:00\u001b[0m\n",
            "\u001b[?25hRequirement already satisfied: typing-extensions>=4.8.0 in /usr/local/lib/python3.10/dist-packages (from fastapi) (4.9.0)\n",
            "Requirement already satisfied: annotated-types>=0.4.0 in /usr/local/lib/python3.10/dist-packages (from pydantic!=1.8,!=1.8.1,!=2.0.0,!=2.0.1,!=2.1.0,<3.0.0,>=1.7.4->fastapi) (0.6.0)\n",
            "Requirement already satisfied: pydantic-core==2.16.2 in /usr/local/lib/python3.10/dist-packages (from pydantic!=1.8,!=1.8.1,!=2.0.0,!=2.0.1,!=2.1.0,<3.0.0,>=1.7.4->fastapi) (2.16.2)\n",
            "Requirement already satisfied: anyio<5,>=3.4.0 in /usr/local/lib/python3.10/dist-packages (from starlette<0.37.0,>=0.36.3->fastapi) (3.7.1)\n",
            "Requirement already satisfied: idna>=2.8 in /usr/local/lib/python3.10/dist-packages (from anyio<5,>=3.4.0->starlette<0.37.0,>=0.36.3->fastapi) (3.6)\n",
            "Requirement already satisfied: sniffio>=1.1 in /usr/local/lib/python3.10/dist-packages (from anyio<5,>=3.4.0->starlette<0.37.0,>=0.36.3->fastapi) (1.3.0)\n",
            "Requirement already satisfied: exceptiongroup in /usr/local/lib/python3.10/dist-packages (from anyio<5,>=3.4.0->starlette<0.37.0,>=0.36.3->fastapi) (1.2.0)\n",
            "Installing collected packages: starlette, fastapi\n",
            "Successfully installed fastapi-0.109.2 starlette-0.36.3\n",
            "\u001b[2K     \u001b[90m━━━━━━━━━━━━━━━━━━━━━━━━━━━━━━━━━━━━━━━━\u001b[0m \u001b[32m367.8/367.8 kB\u001b[0m \u001b[31m7.0 MB/s\u001b[0m eta \u001b[36m0:00:00\u001b[0m\n",
            "\u001b[2K     \u001b[90m━━━━━━━━━━━━━━━━━━━━━━━━━━━━━━━━━━━━━━━━\u001b[0m \u001b[32m70.2/70.2 kB\u001b[0m \u001b[31m8.3 MB/s\u001b[0m eta \u001b[36m0:00:00\u001b[0m\n",
            "\u001b[2K     \u001b[90m━━━━━━━━━━━━━━━━━━━━━━━━━━━━━━━━━━━━━━━━\u001b[0m \u001b[32m86.7/86.7 kB\u001b[0m \u001b[31m7.6 MB/s\u001b[0m eta \u001b[36m0:00:00\u001b[0m\n",
            "\u001b[2K     \u001b[90m━━━━━━━━━━━━━━━━━━━━━━━━━━━━━━━━━━━━━━━━\u001b[0m \u001b[32m158.3/158.3 kB\u001b[0m \u001b[31m10.4 MB/s\u001b[0m eta \u001b[36m0:00:00\u001b[0m\n",
            "\u001b[2K     \u001b[90m━━━━━━━━━━━━━━━━━━━━━━━━━━━━━━━━━━━━━━━━\u001b[0m \u001b[32m178.7/178.7 kB\u001b[0m \u001b[31m12.3 MB/s\u001b[0m eta \u001b[36m0:00:00\u001b[0m\n",
            "\u001b[2K     \u001b[90m━━━━━━━━━━━━━━━━━━━━━━━━━━━━━━━━━━━━━━━━\u001b[0m \u001b[32m58.8/58.8 kB\u001b[0m \u001b[31m8.9 MB/s\u001b[0m eta \u001b[36m0:00:00\u001b[0m\n",
            "\u001b[2K     \u001b[90m━━━━━━━━━━━━━━━━━━━━━━━━━━━━━━━━━━━━━━━━\u001b[0m \u001b[32m49.1/49.1 MB\u001b[0m \u001b[31m11.8 MB/s\u001b[0m eta \u001b[36m0:00:00\u001b[0m\n",
            "\u001b[2K     \u001b[90m━━━━━━━━━━━━━━━━━━━━━━━━━━━━━━━━━━━━━━━━\u001b[0m \u001b[32m54.5/54.5 kB\u001b[0m \u001b[31m7.7 MB/s\u001b[0m eta \u001b[36m0:00:00\u001b[0m\n",
            "\u001b[2K     \u001b[90m━━━━━━━━━━━━━━━━━━━━━━━━━━━━━━━━━━━━━━━━\u001b[0m \u001b[32m49.4/49.4 kB\u001b[0m \u001b[31m6.5 MB/s\u001b[0m eta \u001b[36m0:00:00\u001b[0m\n",
            "\u001b[2K     \u001b[90m━━━━━━━━━━━━━━━━━━━━━━━━━━━━━━━━━━━━━━━━\u001b[0m \u001b[32m1.6/1.6 MB\u001b[0m \u001b[31m79.8 MB/s\u001b[0m eta \u001b[36m0:00:00\u001b[0m\n",
            "\u001b[?25h"
          ]
        }
      ]
    },
    {
      "cell_type": "code",
      "source": [
        "import os\n",
        "from PIL import Image\n",
        "import math\n",
        "import torch\n",
        "from timeit import default_timer as timer\n",
        "from datetime import timedelta\n",
        "import cv2\n",
        "from matplotlib import pyplot as plt\n",
        "import numpy as np\n",
        "from google.colab.patches import cv2_imshow\n",
        "from scipy.spatial.distance import directed_hausdorff\n",
        "from segment_anything import sam_model_registry, SamAutomaticMaskGenerator, SamPredictor\n",
        "import supervision as sv\n",
        "\n",
        "def resize_img(img_path, input_size):\n",
        "  my_image = plt.imread(img_path)\n",
        "  print(my_image.shape)\n",
        "  if max(my_image.shape[0], my_image.shape[1]) > input_size:\n",
        "    if my_image.shape[0] >= my_image.shape[1]:\n",
        "      height = input_size\n",
        "      width = int(my_image.shape[1] * input_size / my_image.shape[0])\n",
        "    else:\n",
        "      width = input_size\n",
        "      height = int(my_image.shape[0] * input_size / my_image.shape[1])\n",
        "    my_image = cv2.resize(my_image, (width, height), interpolation=cv2.INTER_LINEAR)\n",
        "  plt.imsave(img_path, my_image)\n",
        "\n",
        "def pad_img(img_path, input_size):\n",
        "  my_image = plt.imread(img_path)\n",
        "  pad_width = input_size - my_image.shape[0]\n",
        "  pad_height = input_size - my_image.shape[1]\n",
        "  my_padded_image = np.pad(my_image, ((0, pad_width), (0, pad_height), (0, 0)), 'constant')\n",
        "  plt.imsave(img_path, my_padded_image)\n",
        "\n",
        "def crop_image(image):\n",
        "  cropped_image = image[1000:, 1500:]\n",
        "  cropped_image = cropped_image[:2400, :2600]\n",
        "  return cropped_image\n",
        "\n",
        "def sliding_window_hausdorff_distance(contoursA, contoursB, window_size):\n",
        "  min_distance = float('inf')\n",
        "\n",
        "  # Confronta l'array più piccolo con una porzione dell'array più grande\n",
        "  for i in range(len(contoursB) - window_size + 1):\n",
        "    window_contoursB = contoursB[i:i+window_size]\n",
        "\n",
        "    # Calcola la distanza di Hausdorff diretta tra i contorni\n",
        "    distance= directed_hausdorff(contoursA, window_contoursB)[0]\n",
        "\n",
        "    # Aggiorna la minima distanza se necessario\n",
        "    min_distance = min(min_distance, distance)\n",
        "\n",
        "    # Ripeti il confronto con finestre di dimensioni ridotte\n",
        "    for window_size in range(window_size - 1, 0, -1):\n",
        "      for i in range(len(contoursB) - window_size + 1):\n",
        "        window_contoursB = contoursB[i:i+window_size]\n",
        "\n",
        "        # Calcola la distanza di Hausdorff diretta tra i contorni\n",
        "        distance= directed_hausdorff(contoursA, window_contoursB)[0]\n",
        "\n",
        "        # Aggiorna la minima distanza se necessario\n",
        "        min_distance = min(min_distance, distance)\n",
        "\n",
        "  return min_distance\n",
        "\n",
        "#def match_edges(edge_1, edge_2):\n",
        "#  min_distance = float('inf')\n",
        "#  min_coords = None\n",
        "#  edge_min = min((edge_1, edge_2), key=len)\n",
        "#  edge_max = max((edge_1, edge_2), key=len)\n",
        "#  len_max = len(edge_max)\n",
        "#  for j in range(0, len(edge_min), 100):\n",
        "#      len_min = len(edge_min) - j\n",
        "#      for x in range(0, len_max - len_min, 60):\n",
        "#          for y in range(0, len(edge_min) - len_min, 60):\n",
        "#              distance = directed_hausdorff(edge_min[y:y+len_min], edge_max[x:x+len_min])[0]\n",
        "#              if distance < min_distance:\n",
        "#                    min_distance = distance\n",
        "#                    min_coords = (x, x + len_min, y, y + len_min)\n",
        "#  return min_distance, min_coords\n",
        "\n",
        "def find_start(img):\n",
        "  for x, line in enumerate(img):\n",
        "    for y, col in enumerate(line):\n",
        "      if col == 255:\n",
        "        return (x, y)\n",
        "\n",
        "def check_around(img, last, edge):\n",
        "  for i in range(-1, 2, 1):\n",
        "    for j in range(1, -2, -1):\n",
        "      x = max(0, min(last[0]+i, img.shape[0]-1))\n",
        "      y = max(0, min(last[1]+j, img.shape[1]-1))\n",
        "      if img[x][y] == 255 and [x, y] not in edge.tolist():\n",
        "        return [x, y]\n",
        "  return -1\n",
        "\n",
        "def drow_edge(img, start):\n",
        "  edge = np.array([[start[0], start[1]]])\n",
        "  for i in range(-1, 2, 1):\n",
        "    for j in range(1, -2, -1):\n",
        "      x = max(0, min(start[0]+i, img.shape[0]-1))\n",
        "      y = max(0, min(start[1]+j, img.shape[1]-1))\n",
        "      if img[x][y] == 255 and [x, y] not in edge.tolist():\n",
        "        last = [x, y]\n",
        "        edge = np.vstack((edge, last))\n",
        "  while last != start:\n",
        "    last = check_around(img, last, edge)\n",
        "    if last == -1:\n",
        "      last = check_around(img, edge[-2], edge)\n",
        "      if last == -1:\n",
        "        return edge\n",
        "    else:\n",
        "      edge = np.vstack((edge, [last[0], last[1]]))\n",
        "  return edge\n"
      ],
      "metadata": {
        "id": "hs3mY_q-S2rj"
      },
      "execution_count": 128,
      "outputs": []
    },
    {
      "cell_type": "markdown",
      "source": [
        "# Questo codice qui sotto controlla tutta la directory 6 e per ogni immagine calcola SAM e canny.\n",
        "## Questo produce anche un array (array_contours) che contiene tutti gli array  dei bordi di tutte le immagini"
      ],
      "metadata": {
        "id": "fbVD1GavYr0m"
      }
    },
    {
      "cell_type": "code",
      "source": [
        "#Serve per inizializzare il tutto\n",
        "HOME = os.getcwd()\n",
        "print(\"HOME:\", HOME)\n",
        "\n",
        "!mkdir -p {HOME}/weights\n",
        "!wget -q https://dl.fbaipublicfiles.com/segment_anything/sam_vit_h_4b8939.pth -P {HOME}/weights\n",
        "\n",
        "CHECKPOINT_PATH = os.path.join(HOME, \"weights\", \"sam_vit_h_4b8939.pth\")\n",
        "print(CHECKPOINT_PATH, \"; exist:\", os.path.isfile(CHECKPOINT_PATH))\n",
        "\n",
        "MODEL_TYPE = \"vit_h\"\n",
        "\n",
        "sam = sam_model_registry[MODEL_TYPE](checkpoint=CHECKPOINT_PATH).to(device=\"cuda\")\n",
        "mask_generator = SamAutomaticMaskGenerator(sam, points_per_batch=8)"
      ],
      "metadata": {
        "id": "FuJf-Hedb5KH",
        "outputId": "2a95f765-c842-4bf5-af72-6e4252cca2ad",
        "colab": {
          "base_uri": "https://localhost:8080/"
        }
      },
      "execution_count": 129,
      "outputs": [
        {
          "output_type": "stream",
          "name": "stdout",
          "text": [
            "HOME: /content\n",
            "/content/weights/sam_vit_h_4b8939.pth ; exist: True\n"
          ]
        }
      ]
    },
    {
      "cell_type": "code",
      "source": [
        "folder_path = \"/content/dataset/train/6\"\n",
        "\n",
        "# Elenco dei file nella cartella\n",
        "file_list = os.listdir(folder_path)\n",
        "\n",
        "#Array contenente gli array dei bordi di tutte le immagini\n",
        "array_contours = []\n",
        "\n",
        "# Apri tutte le immagini con OpenCV\n",
        "images = []\n",
        "for file_name in file_list:\n",
        "  if file_name.endswith(('.png', '.jpg', '.jpeg')) and not file_name.startswith('gt') :\n",
        "    nome_file = file_name.split('.')[0]\n",
        "    file_path = os.path.join(folder_path, file_name)\n",
        "    image = cv2.imread(file_path)\n",
        "    img = crop_image(image)\n",
        "    image_rgb = cv2.cvtColor(img, cv2.COLOR_BGR2RGB)\n",
        "    sam_result = mask_generator.generate(image_rgb)\n",
        "    masks = [mask['segmentation'] for mask in sorted(sam_result, key=lambda x: x['area'], reverse=True)]\n",
        "\n",
        "    img = masks[1].astype('uint8') * 255 #serve per mapparla da booleano a scala di grigi\n",
        "    blurred = cv2.GaussianBlur(img, (13, 13), 0)\n",
        "    edges_D = cv2.Canny(blurred,0,100)\n",
        "    prova = drow_edge(edges_D, find_start(edges_D))\n",
        "    array_contours.append(prova)\n",
        "    seg_edge = np.zeros((4016, 6016))\n",
        "    x_coords, y_coords = prova[:, 0], prova[:, 1]\n",
        "    seg_edge[x_coords, y_coords] = 255\n",
        "\n",
        "    plt.imsave(os.path.join('dataset', 'train', '6', f'{nome_file}_sam_canny.png'), seg_edge)"
      ],
      "metadata": {
        "id": "oeh5sy534_gM"
      },
      "execution_count": 130,
      "outputs": []
    },
    {
      "cell_type": "code",
      "source": [
        "#QUESTO SERVE PER PLOTTARE LA FOTO SEGMENTATA MA NON SERVE FARLO\n",
        "mask_annotator = sv.MaskAnnotator(color_lookup=sv.ColorLookup.INDEX)\n",
        "\n",
        "detections = sv.Detections.from_sam(sam_result=sam_result)\n",
        "\n",
        "annotated_image = mask_annotator.annotate(scene=img.copy(), detections=detections)\n",
        "\n",
        "sv.plot_images_grid(\n",
        "    images=[img, annotated_image],\n",
        "    grid_size=(1, 2),\n",
        "    titles=['source image', 'segmented image']\n",
        ")"
      ],
      "metadata": {
        "id": "3DXFULFo_RCS"
      },
      "execution_count": null,
      "outputs": []
    },
    {
      "cell_type": "code",
      "source": [
        "#QUESTO SERVE PER PLOTTARE LE MASCHERE MA NON SERVE FARLO\n",
        "masks = [mask['segmentation'] for mask\n",
        "    in sorted(sam_result, key=lambda x: x['area'], reverse=True)\n",
        "]\n",
        "\n",
        "sv.plot_images_grid(\n",
        "    images=masks,\n",
        "    grid_size=(8, int(len(masks) / 2)),\n",
        "    size=(16, 16)\n",
        ")"
      ],
      "metadata": {
        "id": "qgy_-DssBhqn"
      },
      "execution_count": null,
      "outputs": []
    },
    {
      "cell_type": "code",
      "source": [
        "img_A = cv2.imread('/content/dataset/train/6/A.png', cv2.IMREAD_GRAYSCALE)\n",
        "img_D = cv2.imread('/content/dataset/train/6/D.png', cv2.IMREAD_GRAYSCALE)\n",
        "\n",
        "_, bwA = cv2.threshold(img_A, 140, 255, cv2.THRESH_BINARY)\n",
        "_, bwD = cv2.threshold(img_D, 140, 255, cv2.THRESH_BINARY)\n",
        "s = cv2.getStructuringElement(cv2.MORPH_ELLIPSE, (9,9))\n",
        "\n",
        "res1 = cv2.morphologyEx(bwA, cv2.MORPH_OPEN, s)\n",
        "img_final_A = cv2.morphologyEx(res1, cv2.MORPH_CLOSE, s)\n",
        "img_final_A = cv2.dilate(img_final_A, s)\n",
        "cv2_imshow(img_final_A)\n",
        "\n",
        "res1 = cv2.morphologyEx(bwD, cv2.MORPH_OPEN, s)\n",
        "img_final_D = cv2.morphologyEx(res1, cv2.MORPH_CLOSE, s)\n",
        "img_final_D = cv2.dilate(img_final_D, s)\n",
        "cv2_imshow(img_final_D)\n",
        "\n",
        "#res = img.copy()\n",
        "#res[res2==0]=0\n",
        "\n",
        "blurred = cv2.GaussianBlur(img_final_A, (13, 13), 0)\n",
        "assert img_A is not None, \"file could not be read, check with os.path.exists()\"\n",
        "edges_A = cv2.Canny(blurred,0,100)\n",
        "\n",
        "blurred = cv2.GaussianBlur(img_D, (13, 13), 0)\n",
        "assert img_D is not None, \"file could not be read, check with os.path.exists()\"\n",
        "edges_D = cv2.Canny(blurred,0,100)\n",
        "\n",
        "cropped_image_D = crop_image(edges_D)\n",
        "cropped_image_A = crop_image(edges_A)\n",
        "# Display cropped image\n",
        "cv2_imshow(cropped_image_A)\n",
        "cv2_imshow(cropped_image_D)"
      ],
      "metadata": {
        "id": "9De8aKeAoFhy"
      },
      "execution_count": null,
      "outputs": []
    },
    {
      "cell_type": "markdown",
      "source": [
        "# Test"
      ],
      "metadata": {
        "id": "AN094tLxcC-G"
      }
    },
    {
      "cell_type": "code",
      "source": [
        "test_segment1 = np.array([[  0, 255, 255, 255,   0,   0,   0],\n",
        "                          [  0,   0,   0, 255,   0,   0,   0],\n",
        "                          [  0,   0,   0, 255,   0,   0,   0],\n",
        "                          [  0,   0,   0, 255,   0,   0,   0],\n",
        "                          [  0,   0,   0,   0,   0,   0,   0],\n",
        "                          [  0,   0,   0,   0,   0,   0,   0],\n",
        "                          [  0,   0,   0,   0,   0,   0,   0]])\n",
        "\n",
        "test_segment2 = np.array([[  0,   0,   0,   0,   0,   0,   0],\n",
        "                          [  0,   0,   0,   0,   0, 255,   0],\n",
        "                          [  0,   0,   0,   0,   0, 255,   0],\n",
        "                          [  0,   0, 255, 255, 255, 255,   0],\n",
        "                          [  0,   0,   0,   0,   0,   0,   0],\n",
        "                          [  0,   0,   0,   0,   0,   0,   0],\n",
        "                          [  0,   0,   0,   0,   0,   0,   0]])\n",
        "\n",
        "test_segment3 = np.array([[  0, 255, 255, 255, 255, 255, 255],\n",
        "                          [  0,   0,   0,   0,   0,   0,   0],\n",
        "                          [  0,   0,   0,   0,   0,   0,   0],\n",
        "                          [  0,   0,   0,   0,   0,   0,   0],\n",
        "                          [  0,   0,   0,   0,   0,   0,   0],\n",
        "                          [  0,   0,   0,   0,   0,   0,   0],\n",
        "                          [  0,   0,   0,   0,   0,   0,   0]])\n",
        "\n",
        "test_segment4 = np.array([[  0,   0,   0,   0,   0,   0,   0],\n",
        "                          [  0,   0,   0, 255,   0,   0,   0],\n",
        "                          [  0,   0,   0, 255,   0,   0,   0],\n",
        "                          [  0,   0,   0, 255,   0,   0,   0],\n",
        "                          [  0,   0,   0, 255,   0,   0,   0],\n",
        "                          [  0,   0,   0, 255,   0,   0,   0],\n",
        "                          [  0,   0,   0, 255,   0,   0,   0]])\n",
        "\n",
        "arr1 = drow_edge(test_segment1, find_start(test_segment1))\n",
        "arr2 = drow_edge(test_segment2, find_start(test_segment2))\n",
        "arr3 = drow_edge(test_segment3, find_start(test_segment3))\n",
        "arr4 = drow_edge(test_segment4, find_start(test_segment4))"
      ],
      "metadata": {
        "id": "3CSkpZRj6jHC"
      },
      "execution_count": 121,
      "outputs": []
    },
    {
      "cell_type": "code",
      "source": [
        "def check_euc_distance(arr1, arr2):\n",
        "  quad_distance1X = (arr1[0][0] - arr1[-1][0])**2\n",
        "  quad_distance1Y = (arr1[0][1] - arr1[-1][1])**2\n",
        "  quad_distance1 = quad_distance1X + quad_distance1Y\n",
        "\n",
        "  quad_distance2X = (arr2[0][0] - arr2[-1][0])**2\n",
        "  quad_distance2Y = (arr2[0][1] - arr2[-1][1])**2\n",
        "  quad_distance2 = quad_distance2X + quad_distance2Y\n",
        "  return quad_distance1 == quad_distance2\n",
        "\n",
        "def rotate(p, origin=(0, 0), degrees=0):\n",
        "    angle = np.deg2rad(degrees)\n",
        "    R = np.array([[np.cos(angle), -np.sin(angle)],\n",
        "                  [np.sin(angle),  np.cos(angle)]])\n",
        "    o = np.atleast_2d(origin)\n",
        "    p = np.atleast_2d(p)\n",
        "    return np.squeeze((R @ (p.T-o.T) + o.T).T)\n",
        "\n",
        "def get_angle(a, b, c):\n",
        "  cosine_angle = get_cosine_angle(a, b, c)\n",
        "  angle = np.arccos(cosine_angle)\n",
        "\n",
        "  return np.degrees(angle)\n",
        "\n",
        "def get_cosine_angle(a, b, c):\n",
        "  ba = a - b\n",
        "  bc = c - b\n",
        "  return round(np.dot(ba, bc) / (np.linalg.norm(ba) * np.linalg.norm(bc)), 10)\n",
        "\n",
        "def eval_match(arr1, arr2):\n",
        "  #if check_euc_distance(arr1, arr2) and check_length(arr1, arr2):\n",
        "    shift = arr1[0] - arr2[0]\n",
        "    arr2 += shift\n",
        "    arr2 = rotate(arr2, arr2[0], get_angle(arr1[-1], arr1[0], arr2[-1]))\n",
        "    if (get_cosine_angle(arr1[-1], arr1[0], arr2[-1]) < 0):\n",
        "      arr2 = rotate(arr2, arr2[0], get_angle(arr1[-1], arr1[0], arr2[-1]))\n",
        "    arr2.astype('int64')\n",
        "    return sliding_window_hausdorff_distance(arr1, arr2, 6) #TODO: al posto del 6 ci va la dimensione della sliding window\n",
        "  #else:\n",
        "  #  return float('inf')\n",
        "\n",
        "def match_edges(edge_1, edge_2, size):\n",
        "  min_distance = float('inf')\n",
        "  min_coords = None\n",
        "  edge_min = min((edge_1, edge_2), key=len)\n",
        "  edge_max = max((edge_1, edge_2), key=len)\n",
        "  len_max = len(edge_max)\n",
        "  #for j in range(0, len(edge_min), 100):\n",
        "  #    len_min = len(edge_min) - j\n",
        "  for x in range(0, len_max - size, 10):\n",
        "      for y in range(0, len(edge_min) - size, 10):\n",
        "          distance = eval_match(edge_min[y:y+size], edge_max[x:x+size])\n",
        "          if distance < min_distance:\n",
        "                min_distance = distance\n",
        "                min_coords = (x, x + size, y, y + size)\n",
        "  return min_distance, min_coords\n",
        "\n",
        "def check_length(arr1, arr2):\n",
        "  # Calcola la lunghezza dei bordi e confronta le lunghezze con una tolleranza del 10%\n",
        "    return abs(cv2.arcLength(arr1, True) - cv2.arcLength(arr2, True)) / max(cv2.arcLength(arr1, True), cv2.arcLength(arr2, True)) <= 0.2"
      ],
      "metadata": {
        "id": "fdCHitPwZCqR"
      },
      "execution_count": 156,
      "outputs": []
    },
    {
      "cell_type": "code",
      "source": [
        "eval_match(arr2, arr1)"
      ],
      "metadata": {
        "id": "8enIp7rBS1Ia",
        "outputId": "83ed9403-5542-4ed0-cdc9-23299c2acfda",
        "colab": {
          "base_uri": "https://localhost:8080/",
          "height": 141
        }
      },
      "execution_count": 137,
      "outputs": [
        {
          "output_type": "error",
          "ename": "AttributeError",
          "evalue": "'float' object has no attribute 'dtype'",
          "traceback": [
            "\u001b[0;31m---------------------------------------------------------------------------\u001b[0m",
            "\u001b[0;31mAttributeError\u001b[0m                            Traceback (most recent call last)",
            "\u001b[0;32m<ipython-input-137-e4bd349b1845>\u001b[0m in \u001b[0;36m<cell line: 1>\u001b[0;34m()\u001b[0m\n\u001b[0;32m----> 1\u001b[0;31m \u001b[0meval_match\u001b[0m\u001b[0;34m(\u001b[0m\u001b[0marr2\u001b[0m\u001b[0;34m,\u001b[0m \u001b[0marr1\u001b[0m\u001b[0;34m)\u001b[0m\u001b[0;34m.\u001b[0m\u001b[0mdtype\u001b[0m\u001b[0;34m(\u001b[0m\u001b[0;34m)\u001b[0m\u001b[0;34m\u001b[0m\u001b[0;34m\u001b[0m\u001b[0m\n\u001b[0m",
            "\u001b[0;31mAttributeError\u001b[0m: 'float' object has no attribute 'dtype'"
          ]
        }
      ]
    },
    {
      "cell_type": "code",
      "source": [
        "check_length(arr1, arr2)"
      ],
      "metadata": {
        "id": "D7qH59Nkjp7C"
      },
      "execution_count": null,
      "outputs": []
    },
    {
      "cell_type": "code",
      "source": [
        "match_edges()"
      ],
      "metadata": {
        "id": "FZXuguq1WdkC"
      },
      "execution_count": null,
      "outputs": []
    },
    {
      "cell_type": "code",
      "source": [
        "array_contours"
      ],
      "metadata": {
        "id": "IQ-0N6oQlPH0",
        "outputId": "f007210d-95bb-4b8c-ecdd-71b4f8ccc3cd",
        "colab": {
          "base_uri": "https://localhost:8080/"
        }
      },
      "execution_count": 131,
      "outputs": [
        {
          "output_type": "execute_result",
          "data": {
            "text/plain": [
              "[array([[280, 448],\n",
              "        [280, 449],\n",
              "        [281, 447],\n",
              "        ...,\n",
              "        [280, 452],\n",
              "        [280, 451],\n",
              "        [280, 450]]),\n",
              " array([[ 737, 1225],\n",
              "        [ 737, 1226],\n",
              "        [ 738, 1224],\n",
              "        ...,\n",
              "        [ 737, 1229],\n",
              "        [ 737, 1228],\n",
              "        [ 737, 1227]]),\n",
              " array([[ 467, 1154],\n",
              "        [ 467, 1155],\n",
              "        [ 468, 1153],\n",
              "        ...,\n",
              "        [ 467, 1158],\n",
              "        [ 467, 1157],\n",
              "        [ 467, 1156]]),\n",
              " array([[ 866, 1378],\n",
              "        [ 866, 1379],\n",
              "        [ 867, 1377],\n",
              "        ...,\n",
              "        [ 866, 1382],\n",
              "        [ 866, 1381],\n",
              "        [ 866, 1380]])]"
            ]
          },
          "metadata": {},
          "execution_count": 131
        }
      ]
    },
    {
      "cell_type": "code",
      "source": [
        "match_edges(array_contours[0], array_contours[1], 150)"
      ],
      "metadata": {
        "id": "rTXZSRbQlQhS",
        "outputId": "40480d48-34ba-4d97-ca9a-e71d6b69e367",
        "colab": {
          "base_uri": "https://localhost:8080/",
          "height": 287
        }
      },
      "execution_count": 157,
      "outputs": [
        {
          "output_type": "error",
          "ename": "KeyboardInterrupt",
          "evalue": "",
          "traceback": [
            "\u001b[0;31m---------------------------------------------------------------------------\u001b[0m",
            "\u001b[0;31mKeyboardInterrupt\u001b[0m                         Traceback (most recent call last)",
            "\u001b[0;32m<ipython-input-157-e42a8e83749c>\u001b[0m in \u001b[0;36m<cell line: 1>\u001b[0;34m()\u001b[0m\n\u001b[0;32m----> 1\u001b[0;31m \u001b[0mmatch_edges\u001b[0m\u001b[0;34m(\u001b[0m\u001b[0marray_contours\u001b[0m\u001b[0;34m[\u001b[0m\u001b[0;36m0\u001b[0m\u001b[0;34m]\u001b[0m\u001b[0;34m,\u001b[0m \u001b[0marray_contours\u001b[0m\u001b[0;34m[\u001b[0m\u001b[0;36m1\u001b[0m\u001b[0;34m]\u001b[0m\u001b[0;34m,\u001b[0m \u001b[0;36m150\u001b[0m\u001b[0;34m)\u001b[0m\u001b[0;34m\u001b[0m\u001b[0;34m\u001b[0m\u001b[0m\n\u001b[0m",
            "\u001b[0;32m<ipython-input-156-e494b9c90e10>\u001b[0m in \u001b[0;36mmatch_edges\u001b[0;34m(edge_1, edge_2, size)\u001b[0m\n\u001b[1;32m     50\u001b[0m   \u001b[0;32mfor\u001b[0m \u001b[0mx\u001b[0m \u001b[0;32min\u001b[0m \u001b[0mrange\u001b[0m\u001b[0;34m(\u001b[0m\u001b[0;36m0\u001b[0m\u001b[0;34m,\u001b[0m \u001b[0mlen_max\u001b[0m \u001b[0;34m-\u001b[0m \u001b[0msize\u001b[0m\u001b[0;34m,\u001b[0m \u001b[0;36m10\u001b[0m\u001b[0;34m)\u001b[0m\u001b[0;34m:\u001b[0m\u001b[0;34m\u001b[0m\u001b[0;34m\u001b[0m\u001b[0m\n\u001b[1;32m     51\u001b[0m       \u001b[0;32mfor\u001b[0m \u001b[0my\u001b[0m \u001b[0;32min\u001b[0m \u001b[0mrange\u001b[0m\u001b[0;34m(\u001b[0m\u001b[0;36m0\u001b[0m\u001b[0;34m,\u001b[0m \u001b[0mlen\u001b[0m\u001b[0;34m(\u001b[0m\u001b[0medge_min\u001b[0m\u001b[0;34m)\u001b[0m \u001b[0;34m-\u001b[0m \u001b[0msize\u001b[0m\u001b[0;34m,\u001b[0m \u001b[0;36m10\u001b[0m\u001b[0;34m)\u001b[0m\u001b[0;34m:\u001b[0m\u001b[0;34m\u001b[0m\u001b[0;34m\u001b[0m\u001b[0m\n\u001b[0;32m---> 52\u001b[0;31m           \u001b[0mdistance\u001b[0m \u001b[0;34m=\u001b[0m \u001b[0meval_match\u001b[0m\u001b[0;34m(\u001b[0m\u001b[0medge_min\u001b[0m\u001b[0;34m[\u001b[0m\u001b[0my\u001b[0m\u001b[0;34m:\u001b[0m\u001b[0my\u001b[0m\u001b[0;34m+\u001b[0m\u001b[0msize\u001b[0m\u001b[0;34m]\u001b[0m\u001b[0;34m,\u001b[0m \u001b[0medge_max\u001b[0m\u001b[0;34m[\u001b[0m\u001b[0mx\u001b[0m\u001b[0;34m:\u001b[0m\u001b[0mx\u001b[0m\u001b[0;34m+\u001b[0m\u001b[0msize\u001b[0m\u001b[0;34m]\u001b[0m\u001b[0;34m)\u001b[0m\u001b[0;34m\u001b[0m\u001b[0;34m\u001b[0m\u001b[0m\n\u001b[0m\u001b[1;32m     53\u001b[0m           \u001b[0;32mif\u001b[0m \u001b[0mdistance\u001b[0m \u001b[0;34m<\u001b[0m \u001b[0mmin_distance\u001b[0m\u001b[0;34m:\u001b[0m\u001b[0;34m\u001b[0m\u001b[0;34m\u001b[0m\u001b[0m\n\u001b[1;32m     54\u001b[0m                 \u001b[0mmin_distance\u001b[0m \u001b[0;34m=\u001b[0m \u001b[0mdistance\u001b[0m\u001b[0;34m\u001b[0m\u001b[0;34m\u001b[0m\u001b[0m\n",
            "\u001b[0;32m<ipython-input-156-e494b9c90e10>\u001b[0m in \u001b[0;36meval_match\u001b[0;34m(arr1, arr2)\u001b[0m\n\u001b[1;32m     36\u001b[0m       \u001b[0marr2\u001b[0m \u001b[0;34m=\u001b[0m \u001b[0mrotate\u001b[0m\u001b[0;34m(\u001b[0m\u001b[0marr2\u001b[0m\u001b[0;34m,\u001b[0m \u001b[0marr2\u001b[0m\u001b[0;34m[\u001b[0m\u001b[0;36m0\u001b[0m\u001b[0;34m]\u001b[0m\u001b[0;34m,\u001b[0m \u001b[0mget_angle\u001b[0m\u001b[0;34m(\u001b[0m\u001b[0marr1\u001b[0m\u001b[0;34m[\u001b[0m\u001b[0;34m-\u001b[0m\u001b[0;36m1\u001b[0m\u001b[0;34m]\u001b[0m\u001b[0;34m,\u001b[0m \u001b[0marr1\u001b[0m\u001b[0;34m[\u001b[0m\u001b[0;36m0\u001b[0m\u001b[0;34m]\u001b[0m\u001b[0;34m,\u001b[0m \u001b[0marr2\u001b[0m\u001b[0;34m[\u001b[0m\u001b[0;34m-\u001b[0m\u001b[0;36m1\u001b[0m\u001b[0;34m]\u001b[0m\u001b[0;34m)\u001b[0m\u001b[0;34m)\u001b[0m\u001b[0;34m\u001b[0m\u001b[0;34m\u001b[0m\u001b[0m\n\u001b[1;32m     37\u001b[0m     \u001b[0marr2\u001b[0m\u001b[0;34m.\u001b[0m\u001b[0mastype\u001b[0m\u001b[0;34m(\u001b[0m\u001b[0;34m'int64'\u001b[0m\u001b[0;34m)\u001b[0m\u001b[0;34m\u001b[0m\u001b[0;34m\u001b[0m\u001b[0m\n\u001b[0;32m---> 38\u001b[0;31m     \u001b[0;32mreturn\u001b[0m \u001b[0msliding_window_hausdorff_distance\u001b[0m\u001b[0;34m(\u001b[0m\u001b[0marr1\u001b[0m\u001b[0;34m,\u001b[0m \u001b[0marr2\u001b[0m\u001b[0;34m,\u001b[0m \u001b[0;36m6\u001b[0m\u001b[0;34m)\u001b[0m \u001b[0;31m#TODO: al posto del 6 ci va la dimensione della sliding window\u001b[0m\u001b[0;34m\u001b[0m\u001b[0;34m\u001b[0m\u001b[0m\n\u001b[0m\u001b[1;32m     39\u001b[0m   \u001b[0;31m#else:\u001b[0m\u001b[0;34m\u001b[0m\u001b[0;34m\u001b[0m\u001b[0m\n\u001b[1;32m     40\u001b[0m   \u001b[0;31m#  return float('inf')\u001b[0m\u001b[0;34m\u001b[0m\u001b[0;34m\u001b[0m\u001b[0m\n",
            "\u001b[0;32m<ipython-input-128-c8f62cfd14e7>\u001b[0m in \u001b[0;36msliding_window_hausdorff_distance\u001b[0;34m(contoursA, contoursB, window_size)\u001b[0m\n\u001b[1;32m     57\u001b[0m \u001b[0;34m\u001b[0m\u001b[0m\n\u001b[1;32m     58\u001b[0m         \u001b[0;31m# Calcola la distanza di Hausdorff diretta tra i contorni\u001b[0m\u001b[0;34m\u001b[0m\u001b[0;34m\u001b[0m\u001b[0m\n\u001b[0;32m---> 59\u001b[0;31m         \u001b[0mdistance\u001b[0m\u001b[0;34m=\u001b[0m \u001b[0mdirected_hausdorff\u001b[0m\u001b[0;34m(\u001b[0m\u001b[0mcontoursA\u001b[0m\u001b[0;34m,\u001b[0m \u001b[0mwindow_contoursB\u001b[0m\u001b[0;34m)\u001b[0m\u001b[0;34m[\u001b[0m\u001b[0;36m0\u001b[0m\u001b[0;34m]\u001b[0m\u001b[0;34m\u001b[0m\u001b[0;34m\u001b[0m\u001b[0m\n\u001b[0m\u001b[1;32m     60\u001b[0m \u001b[0;34m\u001b[0m\u001b[0m\n\u001b[1;32m     61\u001b[0m         \u001b[0;31m# Aggiorna la minima distanza se necessario\u001b[0m\u001b[0;34m\u001b[0m\u001b[0;34m\u001b[0m\u001b[0m\n",
            "\u001b[0;32m/usr/local/lib/python3.10/dist-packages/scipy/spatial/distance.py\u001b[0m in \u001b[0;36mdirected_hausdorff\u001b[0;34m(u, v, seed)\u001b[0m\n\u001b[1;32m    423\u001b[0m         raise ValueError('u and v need to have the same '\n\u001b[1;32m    424\u001b[0m                          'number of columns')\n\u001b[0;32m--> 425\u001b[0;31m     \u001b[0mresult\u001b[0m \u001b[0;34m=\u001b[0m \u001b[0m_hausdorff\u001b[0m\u001b[0;34m.\u001b[0m\u001b[0mdirected_hausdorff\u001b[0m\u001b[0;34m(\u001b[0m\u001b[0mu\u001b[0m\u001b[0;34m,\u001b[0m \u001b[0mv\u001b[0m\u001b[0;34m,\u001b[0m \u001b[0mseed\u001b[0m\u001b[0;34m)\u001b[0m\u001b[0;34m\u001b[0m\u001b[0;34m\u001b[0m\u001b[0m\n\u001b[0m\u001b[1;32m    426\u001b[0m     \u001b[0;32mreturn\u001b[0m \u001b[0mresult\u001b[0m\u001b[0;34m\u001b[0m\u001b[0;34m\u001b[0m\u001b[0m\n\u001b[1;32m    427\u001b[0m \u001b[0;34m\u001b[0m\u001b[0m\n",
            "\u001b[0;31mKeyboardInterrupt\u001b[0m: "
          ]
        }
      ]
    },
    {
      "cell_type": "code",
      "source": [
        "seg_edge = np.zeros((4016, 6016))\n",
        "x_coords, y_coords = array_contours[0][1800:1860], array_contours[1][840:900]\n",
        "seg_edge[x_coords, y_coords] = 255"
      ],
      "metadata": {
        "id": "K26FzskIlc4j"
      },
      "execution_count": 153,
      "outputs": []
    },
    {
      "cell_type": "code",
      "source": [
        "seg_edge1 = np.zeros((200, 200))\n",
        "seg_edge2 = np.zeros((200, 200))\n",
        "\n",
        "shift = np.zeros([60, 2], dtype = int) - array_contours[0][1800:1860]\n",
        "x_coords = array_contours[0][1800:1860] + shift\n",
        "\n",
        "shift = np.zeros([60, 2], dtype = int) - array_contours[1][840:900]\n",
        "y_coords = array_contours[1][840:900] + shift\n",
        "seg_edge1[x_coords] = 255\n",
        "cv2_imshow(seg_edge1)\n",
        "seg_edge2[y_coords] = 255\n",
        "cv2_imshow(seg_edge2)"
      ],
      "metadata": {
        "id": "SBZ7XdKdpNJ5",
        "outputId": "267c4cfc-148b-4959-d59a-20411f636f47",
        "colab": {
          "base_uri": "https://localhost:8080/",
          "height": 211
        }
      },
      "execution_count": 160,
      "outputs": [
        {
          "output_type": "error",
          "ename": "IndexError",
          "evalue": "index 2680 is out of bounds for axis 0 with size 200",
          "traceback": [
            "\u001b[0;31m---------------------------------------------------------------------------\u001b[0m",
            "\u001b[0;31mIndexError\u001b[0m                                Traceback (most recent call last)",
            "\u001b[0;32m<ipython-input-160-2b3f5cae784c>\u001b[0m in \u001b[0;36m<cell line: 9>\u001b[0;34m()\u001b[0m\n\u001b[1;32m      7\u001b[0m \u001b[0mshift\u001b[0m \u001b[0;34m=\u001b[0m \u001b[0mnp\u001b[0m\u001b[0;34m.\u001b[0m\u001b[0mzeros\u001b[0m\u001b[0;34m(\u001b[0m\u001b[0;34m[\u001b[0m\u001b[0;36m60\u001b[0m\u001b[0;34m,\u001b[0m \u001b[0;36m2\u001b[0m\u001b[0;34m]\u001b[0m\u001b[0;34m,\u001b[0m \u001b[0mdtype\u001b[0m \u001b[0;34m=\u001b[0m \u001b[0mint\u001b[0m\u001b[0;34m)\u001b[0m \u001b[0;34m-\u001b[0m \u001b[0marray_contours\u001b[0m\u001b[0;34m[\u001b[0m\u001b[0;36m1\u001b[0m\u001b[0;34m]\u001b[0m\u001b[0;34m[\u001b[0m\u001b[0;36m840\u001b[0m\u001b[0;34m:\u001b[0m\u001b[0;36m900\u001b[0m\u001b[0;34m]\u001b[0m\u001b[0;34m\u001b[0m\u001b[0;34m\u001b[0m\u001b[0m\n\u001b[1;32m      8\u001b[0m \u001b[0my_coords\u001b[0m \u001b[0;34m=\u001b[0m \u001b[0marray_contours\u001b[0m\u001b[0;34m[\u001b[0m\u001b[0;36m1\u001b[0m\u001b[0;34m]\u001b[0m\u001b[0;34m[\u001b[0m\u001b[0;36m840\u001b[0m\u001b[0;34m:\u001b[0m\u001b[0;36m900\u001b[0m\u001b[0;34m]\u001b[0m \u001b[0;34m+\u001b[0m \u001b[0mshift\u001b[0m\u001b[0;34m\u001b[0m\u001b[0;34m\u001b[0m\u001b[0m\n\u001b[0;32m----> 9\u001b[0;31m \u001b[0mseg_edge1\u001b[0m\u001b[0;34m[\u001b[0m\u001b[0mx_coords\u001b[0m\u001b[0;34m]\u001b[0m \u001b[0;34m=\u001b[0m \u001b[0;36m255\u001b[0m\u001b[0;34m\u001b[0m\u001b[0;34m\u001b[0m\u001b[0m\n\u001b[0m\u001b[1;32m     10\u001b[0m \u001b[0mcv2_imshow\u001b[0m\u001b[0;34m(\u001b[0m\u001b[0mseg_edge1\u001b[0m\u001b[0;34m)\u001b[0m\u001b[0;34m\u001b[0m\u001b[0;34m\u001b[0m\u001b[0m\n\u001b[1;32m     11\u001b[0m \u001b[0mseg_edge2\u001b[0m\u001b[0;34m[\u001b[0m\u001b[0my_coords\u001b[0m\u001b[0;34m]\u001b[0m \u001b[0;34m=\u001b[0m \u001b[0;36m255\u001b[0m\u001b[0;34m\u001b[0m\u001b[0;34m\u001b[0m\u001b[0m\n",
            "\u001b[0;31mIndexError\u001b[0m: index 2680 is out of bounds for axis 0 with size 200"
          ]
        }
      ]
    },
    {
      "cell_type": "code",
      "source": [],
      "metadata": {
        "id": "XZD4qDBsod8B",
        "outputId": "f58e7670-3d81-4414-fd17-7151ad40182f",
        "colab": {
          "base_uri": "https://localhost:8080/",
          "height": 1000
        }
      },
      "execution_count": 154,
      "outputs": [
        {
          "output_type": "display_data",
          "data": {
            "text/plain": [
              "<PIL.Image.Image image mode=L size=6016x4016>"
            ],
            "image/png": "[encoded data removed]"
          },
          "metadata": {}
        }
      ]
    },
    {
      "cell_type": "code",
      "source": [],
      "metadata": {
        "id": "csdcHD9moh4A"
      },
      "execution_count": null,
      "outputs": []
    }
  ]
}