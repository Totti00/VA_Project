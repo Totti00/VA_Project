{
  "nbformat": 4,
  "nbformat_minor": 0,
  "metadata": {
    "colab": {
      "provenance": [],
      "include_colab_link": true
    },
    "kernelspec": {
      "name": "python3",
      "display_name": "Python 3"
    },
    "language_info": {
      "name": "python"
    }
  },
  "cells": [
    {
      "cell_type": "markdown",
      "metadata": {
        "id": "view-in-github",
        "colab_type": "text"
      },
      "source": [
        "<a href=\"https://colab.research.google.com/github/Totti00/VA_Project/blob/main/VA_project.ipynb\" target=\"_parent\"><img src=\"https://colab.research.google.com/assets/colab-badge.svg\" alt=\"Open In Colab\"/></a>"
      ]
    },
    {
      "cell_type": "markdown",
      "source": [
        "First commit"
      ],
      "metadata": {
        "id": "_8SYVib9kmcz"
      }
    },
    {
      "cell_type": "code",
      "execution_count": 17,
      "metadata": {
        "id": "9qyvjwg1kRPh",
        "outputId": "5b5a9e22-4f2e-40b1-934c-542f7eaa7d3a",
        "colab": {
          "base_uri": "https://localhost:8080/"
        }
      },
      "outputs": [
        {
          "output_type": "stream",
          "name": "stdout",
          "text": [
            "--2024-02-05 15:13:00--  https://www.dropbox.com/scl/fi/llieye7mvxzy83g4ggr00/san-vitale-challenge-dataset.zip?rlkey=cggsno35heeu0olidgkmrhaw4\n",
            "Resolving www.dropbox.com (www.dropbox.com)... 162.125.3.18, 2620:100:601f:18::a27d:912\n",
            "Connecting to www.dropbox.com (www.dropbox.com)|162.125.3.18|:443... connected.\n",
            "HTTP request sent, awaiting response... 302 Found\n",
            "Location: https://ucee3e57e3db6d83bdf043d944fb.dl.dropboxusercontent.com/cd/0/inline/CMtqzJmIsxpKGNvHGRS_XOEFwcD91F-4f-03H0jnN6bqOvnV7Szf1jqpQ3Vgrx3ET3uEuS-bWTebIhI1L8qkAF5oRFhmC13U8SBFlZiUwdphcNCqg4umf7wV3U2ziiA80sTUyu7-q-__AEXj_QfxJiHh/file# [following]\n",
            "--2024-02-05 15:13:01--  https://ucee3e57e3db6d83bdf043d944fb.dl.dropboxusercontent.com/cd/0/inline/CMtqzJmIsxpKGNvHGRS_XOEFwcD91F-4f-03H0jnN6bqOvnV7Szf1jqpQ3Vgrx3ET3uEuS-bWTebIhI1L8qkAF5oRFhmC13U8SBFlZiUwdphcNCqg4umf7wV3U2ziiA80sTUyu7-q-__AEXj_QfxJiHh/file\n",
            "Resolving ucee3e57e3db6d83bdf043d944fb.dl.dropboxusercontent.com (ucee3e57e3db6d83bdf043d944fb.dl.dropboxusercontent.com)... 162.125.80.15, 2620:100:601b:15::a27d:80f\n",
            "Connecting to ucee3e57e3db6d83bdf043d944fb.dl.dropboxusercontent.com (ucee3e57e3db6d83bdf043d944fb.dl.dropboxusercontent.com)|162.125.80.15|:443... connected.\n",
            "HTTP request sent, awaiting response... 302 Found\n",
            "Location: /cd/0/inline2/CMsrezn-LAJLRt9flj10HKx8U0QnH3GuWTTmjcQrj96Atf6GxrkVKpZpstseFSiXov_tq2fqdLWc8ejPiVIMrrNtYahcIt1JfiGKhC1MLipfQ6EN0U2I5B8tL6iE3MtoMgoXXM8pVlqFIHLUYmY65-m6gVlOk76GKnOabIjB7Cz_SH2EjRPZfciQFjDBABGKFlE4_09Ip8eElFcCDh3BSVh3QnHHPgKjT8yn-n3E24hu6Ih6KmzVrYd27EbUW374lVzbSWk_Qz4_tcaddW47hhXi1tewz8DZWa85Xf2K8NY9T2BydEr-E4eWabsGudlr5Nro0BjAfodeC9P3lZwd_6JeXb4VmfzS126Y6gRa9y93XGBW4mJIawFNF2SW0z_H1uM/file [following]\n",
            "--2024-02-05 15:13:02--  https://ucee3e57e3db6d83bdf043d944fb.dl.dropboxusercontent.com/cd/0/inline2/CMsrezn-LAJLRt9flj10HKx8U0QnH3GuWTTmjcQrj96Atf6GxrkVKpZpstseFSiXov_tq2fqdLWc8ejPiVIMrrNtYahcIt1JfiGKhC1MLipfQ6EN0U2I5B8tL6iE3MtoMgoXXM8pVlqFIHLUYmY65-m6gVlOk76GKnOabIjB7Cz_SH2EjRPZfciQFjDBABGKFlE4_09Ip8eElFcCDh3BSVh3QnHHPgKjT8yn-n3E24hu6Ih6KmzVrYd27EbUW374lVzbSWk_Qz4_tcaddW47hhXi1tewz8DZWa85Xf2K8NY9T2BydEr-E4eWabsGudlr5Nro0BjAfodeC9P3lZwd_6JeXb4VmfzS126Y6gRa9y93XGBW4mJIawFNF2SW0z_H1uM/file\n",
            "Reusing existing connection to ucee3e57e3db6d83bdf043d944fb.dl.dropboxusercontent.com:443.\n",
            "HTTP request sent, awaiting response... 200 OK\n",
            "Length: 1527928574 (1.4G) [application/zip]\n",
            "Saving to: ‘san-vitale-challenge-dataset.zip?rlkey=cggsno35heeu0olidgkmrhaw4’\n",
            "\n",
            "san-vitale-challeng 100%[===================>]   1.42G  12.9MB/s    in 1m 50s  \n",
            "\n",
            "2024-02-05 15:14:52 (13.2 MB/s) - ‘san-vitale-challenge-dataset.zip?rlkey=cggsno35heeu0olidgkmrhaw4’ saved [1527928574/1527928574]\n",
            "\n"
          ]
        }
      ],
      "source": [
        "!wget https://www.dropbox.com/scl/fi/llieye7mvxzy83g4ggr00/san-vitale-challenge-dataset.zip?rlkey=cggsno35heeu0olidgkmrhaw4&dl=0"
      ]
    },
    {
      "cell_type": "code",
      "source": [
        "!unzip -q san-vitale-challenge-dataset.zip?rlkey=cggsno35heeu0olidgkmrhaw4"
      ],
      "metadata": {
        "id": "Z32a6RIp1Fqs"
      },
      "execution_count": 18,
      "outputs": []
    },
    {
      "cell_type": "code",
      "source": [
        "!rm san-vitale-challenge-dataset.zip?rlkey=cggsno35heeu0olidgkmrhaw4"
      ],
      "metadata": {
        "id": "-Np5diWo1xNG",
        "outputId": "3dd5ba27-1fe6-4605-9eb2-7b64e3b4a605",
        "colab": {
          "base_uri": "https://localhost:8080/"
        }
      },
      "execution_count": 20,
      "outputs": [
        {
          "output_type": "stream",
          "name": "stdout",
          "text": [
            "rm: cannot remove 'san-vitale-challenge-dataset.zip?rlkey=cggsno35heeu0olidgkmrhaw4': No such file or directory\n"
          ]
        }
      ]
    },
    {
      "cell_type": "code",
      "source": [],
      "metadata": {
        "id": "6PywB_0S2Hg8"
      },
      "execution_count": null,
      "outputs": []
    }
  ]
}