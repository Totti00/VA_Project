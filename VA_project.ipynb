{
  "nbformat": 4,
  "nbformat_minor": 0,
  "metadata": {
    "colab": {
      "provenance": [],
      "include_colab_link": true
    },
    "kernelspec": {
      "name": "python3",
      "display_name": "Python 3"
    },
    "language_info": {
      "name": "python"
    }
  },
  "cells": [
    {
      "cell_type": "markdown",
      "metadata": {
        "id": "view-in-github",
        "colab_type": "text"
      },
      "source": [
        "<a href=\"https://colab.research.google.com/github/Totti00/VA_Project/blob/main/VA_project.ipynb\" target=\"_parent\"><img src=\"https://colab.research.google.com/assets/colab-badge.svg\" alt=\"Open In Colab\"/></a>"
      ]
    },
    {
      "cell_type": "markdown",
      "source": [
        "First commit"
      ],
      "metadata": {
        "id": "_8SYVib9kmcz"
      }
    },
    {
      "cell_type": "code",
      "execution_count": null,
      "metadata": {
        "id": "9qyvjwg1kRPh"
      },
      "outputs": [],
      "source": [
        "!wget https://www.dropbox.com/scl/fi/ybx2y1kvy99e2240gc9gg/san-vitale-challenge-dataset.zip?rlkey=kaye183spvmgyqx378rehrzjn&dl=0\n",
        "!unzip -q san-vitale-challenge-dataset.zip?rlkey=kaye183spvmgyqx378rehrzjn\n",
        "!rm san-vitale-challenge-dataset.zip?rlkey=kaye183spvmgyqx378rehrzjn"
      ]
    },
    {
      "cell_type": "code",
      "source": [
        "!pip install -q 'git+https://github.com/facebookresearch/segment-anything.git'\n",
        "!pip install uvicorn\n",
        "!pip install python-multipart\n",
        "!pip install kaleido\n",
        "!pip install fastapi\n",
        "!pip install -q jupyter_bbox_widget roboflow dataclasses-json supervision"
      ],
      "metadata": {
        "id": "-Np5diWo1xNG"
      },
      "execution_count": null,
      "outputs": []
    },
    {
      "cell_type": "code",
      "source": [
        "import os\n",
        "from PIL import Image\n",
        "import math\n",
        "import json\n",
        "import torch\n",
        "from timeit import default_timer as timer\n",
        "from datetime import timedelta\n",
        "import cv2\n",
        "from matplotlib import pyplot as plt\n",
        "import numpy as np\n",
        "from google.colab.patches import cv2_imshow\n",
        "from scipy.spatial.distance import directed_hausdorff\n",
        "#from segment_anything import sam_model_registry, SamAutomaticMaskGenerator, SamPredictor\n",
        "#import supervision as sv\n",
        "from sklearn.decomposition import PCA\n",
        "\n",
        "def resize_img(img_path, input_size):\n",
        "  my_image = plt.imread(img_path)\n",
        "  print(my_image.shape)\n",
        "  if max(my_image.shape[0], my_image.shape[1]) > input_size:\n",
        "    if my_image.shape[0] >= my_image.shape[1]:\n",
        "      height = input_size\n",
        "      width = int(my_image.shape[1] * input_size / my_image.shape[0])\n",
        "    else:\n",
        "      width = input_size\n",
        "      height = int(my_image.shape[0] * input_size / my_image.shape[1])\n",
        "    my_image = cv2.resize(my_image, (width, height), interpolation=cv2.INTER_LINEAR)\n",
        "  plt.imsave(img_path, my_image)\n",
        "\n",
        "def pad_img(img_path, input_size):\n",
        "  my_image = plt.imread(img_path)\n",
        "  pad_width = input_size - my_image.shape[0]\n",
        "  pad_height = input_size - my_image.shape[1]\n",
        "  my_padded_image = np.pad(my_image, ((0, pad_width), (0, pad_height), (0, 0)), 'constant')\n",
        "  plt.imsave(img_path, my_padded_image)\n",
        "\n",
        "def crop_image(image):\n",
        "  cropped_image = image[1000:, 1500:]\n",
        "  cropped_image = cropped_image[:2400, :2600]\n",
        "  return cropped_image\n",
        "\n",
        "def sliding_window_hausdorff_distance(contoursA, contoursB, window_size):\n",
        "  min_distance = float('inf')\n",
        "\n",
        "  # Confronta l'array più piccolo con una porzione dell'array più grande\n",
        "  for i in range(len(contoursB) - window_size + 1):\n",
        "    window_contoursB = contoursB[i:i+window_size]\n",
        "\n",
        "    # Calcola la distanza di Hausdorff diretta tra i contorni\n",
        "    distance= directed_hausdorff(contoursA, window_contoursB)[0]\n",
        "\n",
        "    # Aggiorna la minima distanza se necessario\n",
        "    min_distance = min(min_distance, distance)\n",
        "\n",
        "    # Ripeti il confronto con finestre di dimensioni ridotte\n",
        "    for window_size in range(window_size - 1, 0, -1):\n",
        "      for i in range(len(contoursB) - window_size + 1):\n",
        "        window_contoursB = contoursB[i:i+window_size]\n",
        "\n",
        "        # Calcola la distanza di Hausdorff diretta tra i contorni\n",
        "        distance= directed_hausdorff(contoursA, window_contoursB)[0]\n",
        "\n",
        "        # Aggiorna la minima distanza se necessario\n",
        "        min_distance = min(min_distance, distance)\n",
        "\n",
        "  return min_distance\n",
        "\n",
        "#def match_edges(edge_1, edge_2):\n",
        "#  min_distance = float('inf')\n",
        "#  min_coords = None\n",
        "#  edge_min = min((edge_1, edge_2), key=len)\n",
        "#  edge_max = max((edge_1, edge_2), key=len)\n",
        "#  len_max = len(edge_max)\n",
        "#  for j in range(0, len(edge_min), 100):\n",
        "#      len_min = len(edge_min) - j\n",
        "#      for x in range(0, len_max - len_min, 60):\n",
        "#          for y in range(0, len(edge_min) - len_min, 60):\n",
        "#              distance = directed_hausdorff(edge_min[y:y+len_min], edge_max[x:x+len_min])[0]\n",
        "#              if distance < min_distance:\n",
        "#                    min_distance = distance\n",
        "#                    min_coords = (x, x + len_min, y, y + len_min)\n",
        "#  return min_distance, min_coords\n",
        "\n",
        "def find_start(img):\n",
        "  for x, line in enumerate(img):\n",
        "    for y, col in enumerate(line):\n",
        "      if col == 255:\n",
        "        return (x, y)\n",
        "\n",
        "def check_around(img, last, edge):\n",
        "  for i in range(-1, 2, 1):\n",
        "    for j in range(1, -2, -1):\n",
        "      x = max(0, min(last[0]+i, img.shape[0]-1))\n",
        "      y = max(0, min(last[1]+j, img.shape[1]-1))\n",
        "      if img[x][y] == 255 and [x, y] not in edge.tolist():\n",
        "        return [x, y]\n",
        "  return -1\n",
        "\n",
        "def drow_edge(img, start):\n",
        "  edge = np.array([[start[0], start[1]]])\n",
        "  for i in range(-1, 2, 1):\n",
        "    for j in range(1, -2, -1):\n",
        "      x = max(0, min(start[0]+i, img.shape[0]-1))\n",
        "      y = max(0, min(start[1]+j, img.shape[1]-1))\n",
        "      if img[x][y] == 255 and [x, y] not in edge.tolist():\n",
        "        last = [x, y]\n",
        "        edge = np.vstack((edge, last))\n",
        "  while last != start:\n",
        "    last = check_around(img, last, edge)\n",
        "    if last == -1:\n",
        "      last = check_around(img, edge[-2], edge)\n",
        "      if last == -1:\n",
        "        return edge\n",
        "    else:\n",
        "      edge = np.vstack((edge, [last[0], last[1]]))\n",
        "  return edge\n"
      ],
      "metadata": {
        "id": "hs3mY_q-S2rj"
      },
      "execution_count": 3,
      "outputs": []
    },
    {
      "cell_type": "markdown",
      "source": [
        "# Questo codice qui sotto controlla tutta la directory 6 e per ogni immagine calcola SAM e canny.\n",
        "## Questo produce anche un array (array_contours) che contiene tutti gli array  dei bordi di tutte le immagini"
      ],
      "metadata": {
        "id": "fbVD1GavYr0m"
      }
    },
    {
      "cell_type": "code",
      "source": [
        "#Serve per inizializzare il tutto\n",
        "HOME = os.getcwd()\n",
        "print(\"HOME:\", HOME)\n",
        "\n",
        "!mkdir -p {HOME}/weights\n",
        "!wget -q https://dl.fbaipublicfiles.com/segment_anything/sam_vit_h_4b8939.pth -P {HOME}/weights\n",
        "\n",
        "CHECKPOINT_PATH = os.path.join(HOME, \"weights\", \"sam_vit_h_4b8939.pth\")\n",
        "print(CHECKPOINT_PATH, \"; exist:\", os.path.isfile(CHECKPOINT_PATH))\n",
        "\n",
        "MODEL_TYPE = \"vit_h\"\n",
        "\n",
        "sam = sam_model_registry[MODEL_TYPE](checkpoint=CHECKPOINT_PATH).to(device=\"cuda\")\n",
        "mask_generator = SamAutomaticMaskGenerator(sam, points_per_batch=8)"
      ],
      "metadata": {
        "id": "FuJf-Hedb5KH"
      },
      "execution_count": null,
      "outputs": []
    },
    {
      "cell_type": "code",
      "source": [
        "folder_path = \"/content/dataset/train/6\"\n",
        "\n",
        "# Elenco dei file nella cartella\n",
        "file_list = os.listdir(folder_path)\n",
        "\n",
        "#Array contenente gli array dei bordi di tutte le immagini\n",
        "array_contours = []\n",
        "\n",
        "# Apri tutte le immagini con OpenCV\n",
        "images = []\n",
        "for file_name in file_list:\n",
        "  if file_name.endswith(('.png', '.jpg', '.jpeg')) and not file_name.startswith('gt') :\n",
        "    nome_file = file_name.split('.')[0]\n",
        "    file_path = os.path.join(folder_path, file_name)\n",
        "    image = cv2.imread(file_path)\n",
        "    img = crop_image(image)\n",
        "    image_rgb = cv2.cvtColor(img, cv2.COLOR_BGR2RGB)\n",
        "    sam_result = mask_generator.generate(image_rgb)\n",
        "    masks = [mask['segmentation'] for mask in sorted(sam_result, key=lambda x: x['area'], reverse=True)]\n",
        "\n",
        "    img = masks[1].astype('uint8') * 255 #serve per mapparla da booleano a scala di grigi\n",
        "    blurred = cv2.GaussianBlur(img, (13, 13), 0)\n",
        "    edges_D = cv2.Canny(blurred,0,100)\n",
        "    prova = drow_edge(edges_D, find_start(edges_D))\n",
        "    array_contours.append(prova)\n",
        "    seg_edge = np.zeros((4016, 6016))\n",
        "    x_coords, y_coords = prova[:, 0], prova[:, 1]\n",
        "    seg_edge[x_coords, y_coords] = 255\n",
        "\n",
        "    plt.imsave(os.path.join('dataset', 'train', '6', f'{nome_file}_sam_canny.png'), seg_edge)"
      ],
      "metadata": {
        "id": "oeh5sy534_gM"
      },
      "execution_count": null,
      "outputs": []
    },
    {
      "cell_type": "code",
      "source": [
        "# SALVARE SU FILE\n",
        "\n",
        "array_list = [arr.tolist() for arr in array_contours]\n",
        "with open('contours.json', 'w') as f:\n",
        "  json.dump(array_list, f)"
      ],
      "metadata": {
        "id": "G3hQcF2dSUCm"
      },
      "execution_count": null,
      "outputs": []
    },
    {
      "cell_type": "code",
      "source": [
        "# IMPORTARE DA FILE\n",
        "with open('contours.json', 'r') as f:\n",
        "  array_list = json.load(f)\n",
        "\n",
        "contours = [np.array(arr) for arr in array_list]"
      ],
      "metadata": {
        "id": "ygbuzWTCSj6n"
      },
      "execution_count": 4,
      "outputs": []
    },
    {
      "cell_type": "code",
      "source": [
        "#QUESTO SERVE PER PLOTTARE LA FOTO SEGMENTATA MA NON SERVE FARLO\n",
        "mask_annotator = sv.MaskAnnotator(color_lookup=sv.ColorLookup.INDEX)\n",
        "\n",
        "detections = sv.Detections.from_sam(sam_result=sam_result)\n",
        "\n",
        "annotated_image = mask_annotator.annotate(scene=img.copy(), detections=detections)\n",
        "\n",
        "sv.plot_images_grid(\n",
        "    images=[img, annotated_image],\n",
        "    grid_size=(1, 2),\n",
        "    titles=['source image', 'segmented image']\n",
        ")"
      ],
      "metadata": {
        "id": "3DXFULFo_RCS"
      },
      "execution_count": null,
      "outputs": []
    },
    {
      "cell_type": "code",
      "source": [
        "#QUESTO SERVE PER PLOTTARE LE MASCHERE MA NON SERVE FARLO\n",
        "masks = [mask['segmentation'] for mask\n",
        "    in sorted(sam_result, key=lambda x: x['area'], reverse=True)\n",
        "]\n",
        "\n",
        "sv.plot_images_grid(\n",
        "    images=masks,\n",
        "    grid_size=(8, int(len(masks) / 2)),\n",
        "    size=(16, 16)\n",
        ")"
      ],
      "metadata": {
        "id": "qgy_-DssBhqn"
      },
      "execution_count": null,
      "outputs": []
    },
    {
      "cell_type": "code",
      "source": [
        "img_A = cv2.imread('/content/dataset/train/6/A.png', cv2.IMREAD_GRAYSCALE)\n",
        "img_D = cv2.imread('/content/dataset/train/6/D.png', cv2.IMREAD_GRAYSCALE)\n",
        "\n",
        "_, bwA = cv2.threshold(img_A, 140, 255, cv2.THRESH_BINARY)\n",
        "_, bwD = cv2.threshold(img_D, 140, 255, cv2.THRESH_BINARY)\n",
        "s = cv2.getStructuringElement(cv2.MORPH_ELLIPSE, (9,9))\n",
        "\n",
        "res1 = cv2.morphologyEx(bwA, cv2.MORPH_OPEN, s)\n",
        "img_final_A = cv2.morphologyEx(res1, cv2.MORPH_CLOSE, s)\n",
        "img_final_A = cv2.dilate(img_final_A, s)\n",
        "cv2_imshow(img_final_A)\n",
        "\n",
        "res1 = cv2.morphologyEx(bwD, cv2.MORPH_OPEN, s)\n",
        "img_final_D = cv2.morphologyEx(res1, cv2.MORPH_CLOSE, s)\n",
        "img_final_D = cv2.dilate(img_final_D, s)\n",
        "cv2_imshow(img_final_D)\n",
        "\n",
        "#res = img.copy()\n",
        "#res[res2==0]=0\n",
        "\n",
        "blurred = cv2.GaussianBlur(img_final_A, (13, 13), 0)\n",
        "assert img_A is not None, \"file could not be read, check with os.path.exists()\"\n",
        "edges_A = cv2.Canny(blurred,0,100)\n",
        "\n",
        "blurred = cv2.GaussianBlur(img_D, (13, 13), 0)\n",
        "assert img_D is not None, \"file could not be read, check with os.path.exists()\"\n",
        "edges_D = cv2.Canny(blurred,0,100)\n",
        "\n",
        "cropped_image_D = crop_image(edges_D)\n",
        "cropped_image_A = crop_image(edges_A)\n",
        "# Display cropped image\n",
        "cv2_imshow(cropped_image_A)\n",
        "cv2_imshow(cropped_image_D)"
      ],
      "metadata": {
        "id": "9De8aKeAoFhy"
      },
      "execution_count": null,
      "outputs": []
    },
    {
      "cell_type": "markdown",
      "source": [
        "# Test"
      ],
      "metadata": {
        "id": "AN094tLxcC-G"
      }
    },
    {
      "cell_type": "code",
      "source": [
        "test_segment1 = np.array([[  0, 255, 255, 255,   0,   0,   0],\n",
        "                          [  0,   0,   0, 255,   0,   0,   0],\n",
        "                          [  0,   0,   0, 255,   0,   0,   0],\n",
        "                          [  0,   0,   0, 255,   0,   0,   0],\n",
        "                          [  0,   0,   0,   0,   0,   0,   0],\n",
        "                          [  0,   0,   0,   0,   0,   0,   0],\n",
        "                          [  0,   0,   0,   0,   0,   0,   0]])\n",
        "\n",
        "test_segment2 = np.array([[  0,   0,   0,   0,   0,   0,   0],\n",
        "                          [  0,   0,   0,   0,   0, 255,   0],\n",
        "                          [  0,   0,   0,   0,   0, 255,   0],\n",
        "                          [  0,   0, 255, 255, 255, 255,   0],\n",
        "                          [  0,   0,   0,   0,   0,   0,   0],\n",
        "                          [  0,   0,   0,   0,   0,   0,   0],\n",
        "                          [  0,   0,   0,   0,   0,   0,   0]])\n",
        "\n",
        "test_segment3 = np.array([[  0, 255, 255, 255, 255, 255, 255],\n",
        "                          [  0,   0,   0,   0,   0,   0,   0],\n",
        "                          [  0,   0,   0,   0,   0,   0,   0],\n",
        "                          [  0,   0,   0,   0,   0,   0,   0],\n",
        "                          [  0,   0,   0,   0,   0,   0,   0],\n",
        "                          [  0,   0,   0,   0,   0,   0,   0],\n",
        "                          [  0,   0,   0,   0,   0,   0,   0]])\n",
        "\n",
        "test_segment4 = np.array([[  0,   0,   0,   0,   0,   0,   0],\n",
        "                          [  0,   0,   0, 255,   0,   0,   0],\n",
        "                          [  0,   0,   0, 255,   0,   0,   0],\n",
        "                          [  0,   0,   0, 255,   0,   0,   0],\n",
        "                          [  0,   0,   0, 255,   0,   0,   0],\n",
        "                          [  0,   0,   0, 255,   0,   0,   0],\n",
        "                          [  0,   0,   0, 255,   0,   0,   0]])\n",
        "\n",
        "test_segment5 = np.array([[  0,   0,   0,   0,   0, 255,   0],\n",
        "                          [  0,   0,   0,   0, 255,   0,   0],\n",
        "                          [  0,   0,   0,   0,   0, 255,   0],\n",
        "                          [  0,   0,   0,   0,   0,   0, 255],\n",
        "                          [  0,   0,   0,   0,   0,   0, 255],\n",
        "                          [  0,   0,   0,   0,   0,   0, 255],\n",
        "                          [  0,   0,   0,   0,   0,   0,   0]])\n",
        "\n",
        "test_segment6 = np.array([[  0,   0, 255,   0,   0,   0,   0],\n",
        "                          [  0, 255,   0,   0,   0,   0,   0],\n",
        "                          [  0,   0, 255,   0,   0,   0,   0],\n",
        "                          [  0,   0,   0, 255, 255, 255,   0],\n",
        "                          [  0,   0,   0,   0,   0,   0,   0],\n",
        "                          [  0,   0,   0,   0,   0,   0,   0],\n",
        "                          [  0,   0,   0,   0,   0,   0,   0]])\n",
        "\n",
        "test_segment7 = np.array([[  0,   0, 255, 255,   0,   0,   0],\n",
        "                          [255,   0,   0,   0, 255,   0,   0],\n",
        "                          [  0, 255,   0, 255,   0,   0,   0],\n",
        "                          [  0,   0, 255,   0,   0,   0,   0],\n",
        "                          [  0,   0,   0,   0,   0,   0,   0],\n",
        "                          [  0,   0,   0,   0,   0,   0,   0],\n",
        "                          [  0,   0,   0,   0,   0,   0,   0]])\n",
        "\n",
        "arr1 = drow_edge(test_segment1, find_start(test_segment1))\n",
        "arr2 = drow_edge(test_segment2, find_start(test_segment2))\n",
        "arr3 = drow_edge(test_segment3, find_start(test_segment3))\n",
        "arr4 = drow_edge(test_segment4, find_start(test_segment4))\n",
        "arr5 = drow_edge(test_segment5, find_start(test_segment5))\n",
        "arr6 = drow_edge(test_segment6, find_start(test_segment6))\n",
        "arr7 = drow_edge(test_segment7, find_start(test_segment7))"
      ],
      "metadata": {
        "id": "3CSkpZRj6jHC"
      },
      "execution_count": null,
      "outputs": []
    },
    {
      "cell_type": "code",
      "source": [
        "def check_euc_distance(arr1, arr2):\n",
        "  quad_distance1X = (arr1[0][0] - arr1[-1][0])**2\n",
        "  quad_distance1Y = (arr1[0][1] - arr1[-1][1])**2\n",
        "  quad_distance1 = quad_distance1X + quad_distance1Y\n",
        "\n",
        "  quad_distance2X = (arr2[0][0] - arr2[-1][0])**2\n",
        "  quad_distance2Y = (arr2[0][1] - arr2[-1][1])**2\n",
        "  quad_distance2 = quad_distance2X + quad_distance2Y\n",
        "  return quad_distance1 == quad_distance2\n",
        "\n",
        "def euc_distance(arr1):\n",
        "  quad_distance1X = (arr1[0][0] - arr1[-1][0])**2\n",
        "  quad_distance1Y = (arr1[0][1] - arr1[-1][1])**2\n",
        "  quad_distance = quad_distance1X + quad_distance1Y\n",
        "\n",
        "  return np.sqrt(quad_distance)\n",
        "\n",
        "def rotate(p, origin=(0, 0), degrees=0):\n",
        "    angle = np.deg2rad(degrees)\n",
        "    R = np.array([[np.cos(angle), -np.sin(angle)],\n",
        "                  [np.sin(angle),  np.cos(angle)]])\n",
        "    o = np.atleast_2d(origin)\n",
        "    p = np.atleast_2d(p)\n",
        "    return np.squeeze((R @ (p.T-o.T) + o.T).T)\n",
        "\n",
        "def get_angle(a, b, c):\n",
        "  cosine_angle = get_cosine_angle(a, b, c)\n",
        "  angle = np.arccos(cosine_angle)\n",
        "\n",
        "  return np.degrees(angle)\n",
        "\n",
        "def check_angle(arr1, arr2):\n",
        "  # Calcola il PCA per il primo contorno\n",
        "  pca1 = PCA(n_components=2)\n",
        "  pca1.fit(arr1)\n",
        "  pca1_direction = pca1.components_[0]  # Direzione principale del primo contorno\n",
        "\n",
        "  # Calcola il PCA per il secondo contorno\n",
        "  pca2 = PCA(n_components=2)\n",
        "  pca2.fit(arr2)\n",
        "  pca2_direction = pca2.components_[0]  # Direzione principale del secondo contorno\n",
        "\n",
        "  # Calcola l'angolo tra le due direzioni principali utilizzando il prodotto scalare\n",
        "  cosine_angle = np.dot(pca1_direction, pca2_direction)\n",
        "  angle = np.arccos(cosine_angle)\n",
        "\n",
        "  return np.degrees(angle)\n",
        "\n",
        "def get_cosine_angle(a, b, c):\n",
        "  ba = a - b\n",
        "  bc = c - b\n",
        "  return round(np.dot(ba, bc) / (np.linalg.norm(ba) * np.linalg.norm(bc)), 10)\n",
        "\n",
        "def eval_match(edge1, edge2):\n",
        "  angle = 0\n",
        "  arr1 = edge1.copy()\n",
        "  arr2 = edge2.copy()\n",
        "  if check_euc_distance(arr1, arr2) and check_length(arr1, arr2):# and check_length(arr1, arr2):\n",
        "    shift = arr1[0] - arr2[0]\n",
        "    arr2 += shift\n",
        "    angle += get_angle(arr1[-1], arr1[0], arr2[-1])\n",
        "    arr2 = rotate(arr2, arr2[0], angle)\n",
        "    #arr2 = rotate(arr2, arr2[0], check_angle(arr1, arr2))\n",
        "    if (get_cosine_angle(arr1[-1], arr1[0], arr2[-1]) < 0):\n",
        "      angle += get_angle(arr1[-1], arr1[0], arr2[-1])\n",
        "      arr2 += rotate(arr2, arr2[0], angle)\n",
        "    #print(arr2)\n",
        "    #arr2.astype('int64')\n",
        "    #return sliding_window_hausdorff_distance(arr1, arr2, 700) #TODO: al posto del 6 ci va la dimensione della sliding window\n",
        "    distance = directed_hausdorff(arr1, arr2)[0]\n",
        "    return distance, angle #/ len(arr1) / (euc_distance(arr1))\n",
        "  else:\n",
        "    return float('inf'), None\n",
        "\n",
        "def match_edges_with_size(arr1, arr2, size):\n",
        "  edge_1 = arr1.copy()\n",
        "  edge_2 = arr2.copy()\n",
        "  min_distance = float('inf')\n",
        "  angle_right = None\n",
        "  min_coords = None\n",
        "  edge_min = min((edge_1, edge_2), key=len)\n",
        "  edge_min = edge_min[::-1]\n",
        "  edge_max = max((edge_1, edge_2), key=len)\n",
        "  len_max = len(edge_max)\n",
        "  for x in range(0, len_max - size, 1):\n",
        "      for y in range(0, len(edge_min) - size, 1):\n",
        "          distance, angle = eval_match(edge_min[y:y+size], edge_max[x:x+size])\n",
        "          if distance < min_distance:\n",
        "            min_distance = distance\n",
        "            min_coords = (x, x + size, y, y + size)\n",
        "            angle_right = angle\n",
        "  return min_distance, min_coords, angle_right\n",
        "\n",
        "def match_edges(arr1, arr2):\n",
        "  edge_1 = arr1.copy()\n",
        "  edge_2 = arr2.copy()\n",
        "  min_distance = float('inf')\n",
        "  min_coords = None\n",
        "  angle_right = None\n",
        "  edge_min = min((edge_1, edge_2), key=len)\n",
        "  edge_max = max((edge_1, edge_2), key=len)\n",
        "  len_max = len(edge_max)\n",
        "  for j in range(300, int(len(edge_min) / 5), 10): #size window\n",
        "    size = j\n",
        "    for x in range(0, len_max - size, 2):\n",
        "      for y in range(0, len(edge_min) - size, 2):\n",
        "        distance, angle = eval_match(edge_min[y:y+size], edge_max[x:x+size])\n",
        "        if distance < min_distance:\n",
        "          min_distance = distance\n",
        "          min_coords = (x, x + size, y, y + size)\n",
        "          angle_right = angle\n",
        "  return min_distance, min_coords, angle_right\n",
        "\n",
        "def check_length(arr1, arr2):\n",
        "  # Calcola la lunghezza dei bordi e confronta le lunghezze con una tolleranza del 10%\n",
        "  #return abs(cv2.arcLength(arr1, True) - cv2.arcLength(arr2, True)) / max(cv2.arcLength(arr1, True), cv2.arcLength(arr2, True)) <= 0.2\n",
        "  return abs(len(arr1) - len(arr2)) / max(len(arr1), len(arr2)) <= 0.05\n",
        "\n",
        "def compute_rotation_angle(line1, line2):\n",
        "  # Calcola il vettore direzione della prima linea\n",
        "  direction_vector1 = line1[-1] - line1[0]\n",
        "\n",
        "  # Calcola il vettore direzione della seconda linea\n",
        "  direction_vector2 = line2[-1] - line2[0]\n",
        "\n",
        "  # Normalizza i vettori direzione\n",
        "  direction_vector1 = direction_vector1.astype(np.float64)\n",
        "  direction_vector2 = direction_vector2.astype(np.float64)\n",
        "  direction_vector1 /= np.linalg.norm(direction_vector1)\n",
        "  direction_vector2 /= np.linalg.norm(direction_vector2)\n",
        "\n",
        "  # Calcola il prodotto scalare tra i due vettori normalizzati\n",
        "  dot_product = np.dot(direction_vector1, direction_vector2)\n",
        "\n",
        "  # Calcola l'angolo tra i due vettori usando l'arco coseno\n",
        "  angle_rad = np.arccos(dot_product)\n",
        "\n",
        "  # Converte l'angolo da radianti a gradi\n",
        "  angle_deg = np.degrees(angle_rad)\n",
        "\n",
        "  return angle_deg\n",
        "\n",
        "def point_inside_polygon(x, y, poly):\n",
        "  n = len(poly)\n",
        "  inside = False\n",
        "  p1x, p1y = poly[0]\n",
        "  for i in range(n + 1):\n",
        "    p2x, p2y = poly[i % n]\n",
        "    if y > min(p1y, p2y):\n",
        "      if y <= max(p1y, p2y):\n",
        "        if x <= max(p1x, p2x):\n",
        "          if p1y != p2y:\n",
        "            xinters = (y - p1y) * (p2x - p1x) / (p2y - p1y) + p1x\n",
        "          if p1x == p2x or x <= xinters:\n",
        "            inside = not inside\n",
        "    p1x, p1y = p2x, p2y\n",
        "  return inside"
      ],
      "metadata": {
        "id": "fdCHitPwZCqR"
      },
      "execution_count": 67,
      "outputs": []
    },
    {
      "cell_type": "code",
      "source": [
        "#Questo plotta i due frammenti e due lati che combaciano\n",
        "def visualize(points, arr1, arr2):\n",
        "  edge_min = min((arr1, arr2), key=len)\n",
        "  edge_min = edge_min[::-1]\n",
        "  edge_max = max((arr1, arr2), key=len)\n",
        "  seg_edge = np.zeros((3016, 3016))\n",
        "  x_coords, y_coords = edge_max[:, 0], edge_max[:, 1]\n",
        "  seg_edge[x_coords, y_coords] = 255\n",
        "  cv2_imshow(seg_edge)\n",
        "  seg_edge = np.zeros((3016, 3016))\n",
        "  x_coords, y_coords = edge_max[points[0]:points[1], 0], edge_max[points[0]:points[1], 1]\n",
        "  seg_edge[x_coords, y_coords] = 255\n",
        "  cv2_imshow(seg_edge)\n",
        "\n",
        "  seg_edge = np.zeros((3016, 3016))\n",
        "  x_coords, y_coords = edge_min[:, 0], edge_min[:, 1]\n",
        "  seg_edge[x_coords, y_coords] = 255\n",
        "  cv2_imshow(seg_edge)\n",
        "  seg_edge = np.zeros((3016, 3016))\n",
        "  x_coords, y_coords = edge_min[points[2]:points[3], 0], edge_min[points[2]:points[3], 1]\n",
        "  seg_edge[x_coords, y_coords] = 255\n",
        "  cv2_imshow(seg_edge)\n",
        "#if edge_min(contours[0], contours[3], key=len)\n",
        "score, coords, angle = match_edges_with_size(contours[0], contours[3], 500)   #0, 3, 500\n",
        "print(score)\n",
        "print(angle)\n",
        "#print(coords)"
      ],
      "metadata": {
        "id": "K3nMvZalhegd",
        "outputId": "5c7e40ad-bee9-4052-ac03-1e059f15e3d5",
        "colab": {
          "base_uri": "https://localhost:8080/"
        }
      },
      "execution_count": 6,
      "outputs": [
        {
          "output_type": "stream",
          "name": "stdout",
          "text": [
            "2.480694671675624\n",
            "157.38013505539732\n"
          ]
        }
      ]
    },
    {
      "cell_type": "code",
      "source": [
        "visualize(coords, contours[0], contours[3])"
      ],
      "metadata": {
        "id": "ISUUoMpQOaMs"
      },
      "execution_count": null,
      "outputs": []
    },
    {
      "cell_type": "code",
      "source": [
        "#ATTACCA I PEZZI\n",
        "edge_1 = contours[0].copy()\n",
        "edge_2 = contours[3].copy()\n",
        "edge_min = min((edge_1, edge_2), key=len)\n",
        "edge_min = edge_min[::-1]\n",
        "edge_max = max((edge_1, edge_2), key=len)\n",
        "\n",
        "shift = edge_max[coords[0]:coords[1]][0] - edge_min[coords[2]:coords[3]][0]\n",
        "edge_min += shift\n",
        "\n",
        "angle_prova = compute_rotation_angle(edge_max[coords[0]:coords[1]], edge_min[coords[2]:coords[3]])\n",
        "\n",
        "edge_min = rotate(edge_min, edge_min[coords[2]:coords[3]][0], angle_prova)\n",
        "edge_min = np.ceil(edge_min).astype(int)\n",
        "\n",
        "while(get_cosine_angle(edge_max[coords[0]:coords[1]][-1], edge_max[coords[0]:coords[1]][0], edge_min[coords[2]:coords[3]][-1]) < 0.90):\n",
        "  angle_prova = compute_rotation_angle(edge_max[coords[0]:coords[1]], edge_min[coords[2]:coords[3]])\n",
        "  edge_min = rotate(edge_min, edge_min[coords[2]:coords[3]][0], angle_prova)\n",
        "  edge_min = np.ceil(edge_min).astype(int)\n",
        "\n",
        "joined_coords = np.concatenate((edge_max, edge_min))\n",
        "\n",
        "seg_edge = np.zeros((3016, 3016))\n",
        "x_coords, y_coords = joined_coords[:, 0], joined_coords[:, 1]\n",
        "seg_edge[x_coords, y_coords] = 255\n",
        "cv2_imshow(seg_edge)"
      ],
      "metadata": {
        "id": "KHJi1BHZojh-"
      },
      "execution_count": null,
      "outputs": []
    },
    {
      "cell_type": "code",
      "source": [
        "#SERVE PER CONTROLLARE SE UN PEZZO É DENTRO L'ALTRO\n",
        "for point in edge_min:\n",
        "  result = point_inside_polygon(point[0], point[1], edge_max)\n",
        "  if (result):\n",
        "    print(\"ok\")"
      ],
      "metadata": {
        "id": "5cmNJfpU_yWe"
      },
      "execution_count": null,
      "outputs": []
    },
    {
      "cell_type": "code",
      "source": [],
      "metadata": {
        "id": "XaKhnzF9G3k3"
      },
      "execution_count": null,
      "outputs": []
    },
    {
      "cell_type": "code",
      "source": [],
      "metadata": {
        "id": "7YeHAPy5G3ij"
      },
      "execution_count": null,
      "outputs": []
    },
    {
      "cell_type": "code",
      "source": [],
      "metadata": {
        "id": "dUQ3hKmDG3au"
      },
      "execution_count": null,
      "outputs": []
    },
    {
      "cell_type": "code",
      "source": [],
      "metadata": {
        "id": "TuTQq3rGG3MJ"
      },
      "execution_count": null,
      "outputs": []
    },
    {
      "cell_type": "code",
      "source": [
        "#Questo plotta i due frammenti e due lati che combaciano\n",
        "seg_edge = np.zeros((3016, 3016))\n",
        "x_coords, y_coords = contours[2][:, 0], contours[2][:, 1]\n",
        "seg_edge[x_coords, y_coords] = 255\n",
        "cv2_imshow(seg_edge)\n",
        "seg_edge = np.zeros((3016, 3016))\n",
        "x_coords, y_coords = contours[2][350:550, 0], contours[2][350:550, 1]\n",
        "seg_edge[x_coords, y_coords] = 255\n",
        "cv2_imshow(seg_edge)\n",
        "\n",
        "seg_edge = np.zeros((3016, 3016))\n",
        "x_coords, y_coords = contours[1][:, 0], contours[1][:, 1]\n",
        "seg_edge[x_coords, y_coords] = 255\n",
        "cv2_imshow(seg_edge)\n",
        "seg_edge = np.zeros((3016, 3016))\n",
        "x_coords, y_coords = contours[1][2100:2300, 0], contours[1][2100:2300, 1]\n",
        "seg_edge[x_coords, y_coords] = 255\n",
        "cv2_imshow(seg_edge)\n"
      ],
      "metadata": {
        "id": "K26FzskIlc4j"
      },
      "execution_count": null,
      "outputs": []
    },
    {
      "cell_type": "code",
      "source": [
        "seg_edge = np.zeros((4016, 6016))\n",
        "x_coords, y_coords = contours[0][:, 0], contours[0][:, 1]\n",
        "seg_edge[x_coords, y_coords] = 255\n",
        "cv2_imshow(seg_edge)"
      ],
      "metadata": {
        "id": "SBZ7XdKdpNJ5"
      },
      "execution_count": null,
      "outputs": []
    }
  ]
}